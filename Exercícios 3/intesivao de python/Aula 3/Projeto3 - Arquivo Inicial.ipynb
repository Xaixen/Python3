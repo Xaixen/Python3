{
 "cells": [
  {
   "cell_type": "markdown",
   "id": "617155c9",
   "metadata": {
    "id": "617155c9"
   },
   "source": [
    "# Automação Web e Busca de Informações com Python\n",
    "\n",
    "#### Desafio: \n",
    "\n",
    "Trabalhamos em uma importadora e compramos e vendemos commodities:\n",
    "- Soja, Milho, Trigo, Petróleo, etc.\n",
    "\n",
    "Precisamos pegar na internet, de forma automática, a cotação de todas as commodites e ver se ela está abaixo do nosso preço ideal de compra. Se tiver, precisamos marcar como uma ação de compra para a equipe de operações.\n",
    "\n",
    "Base de Dados: https://drive.google.com/drive/folders/1O9aE_Hen5smf_a6TsbVF6DM0ms4Ykj6s?usp=share_link\n",
    "\n",
    "Para isso, vamos criar uma automação web:\n",
    "\n",
    "- Usaremos o selenium\n",
    "- Importante: baixar o webdriver"
   ]
  },
  {
   "cell_type": "code",
   "execution_count": 49,
   "id": "020de958",
   "metadata": {
    "id": "020de958"
   },
   "outputs": [],
   "source": [
    "#send_keys() = escrever texto\n",
    "#click() = clicar \n",
    "#get_attribute() = pegar uma informação do site"
   ]
  },
  {
   "cell_type": "code",
   "execution_count": 1,
   "id": "e1e24cbc",
   "metadata": {},
   "outputs": [
    {
     "data": {
      "text/html": [
       "<div>\n",
       "<style scoped>\n",
       "    .dataframe tbody tr th:only-of-type {\n",
       "        vertical-align: middle;\n",
       "    }\n",
       "\n",
       "    .dataframe tbody tr th {\n",
       "        vertical-align: top;\n",
       "    }\n",
       "\n",
       "    .dataframe thead th {\n",
       "        text-align: right;\n",
       "    }\n",
       "</style>\n",
       "<table border=\"1\" class=\"dataframe\">\n",
       "  <thead>\n",
       "    <tr style=\"text-align: right;\">\n",
       "      <th></th>\n",
       "      <th>Produto</th>\n",
       "      <th>Preço Ideal</th>\n",
       "      <th>Preço Atual</th>\n",
       "      <th>Comprar</th>\n",
       "    </tr>\n",
       "  </thead>\n",
       "  <tbody>\n",
       "    <tr>\n",
       "      <th>0</th>\n",
       "      <td>Milho</td>\n",
       "      <td>85.32</td>\n",
       "      <td>NaN</td>\n",
       "      <td>NaN</td>\n",
       "    </tr>\n",
       "    <tr>\n",
       "      <th>1</th>\n",
       "      <td>Soja</td>\n",
       "      <td>163.59</td>\n",
       "      <td>NaN</td>\n",
       "      <td>NaN</td>\n",
       "    </tr>\n",
       "    <tr>\n",
       "      <th>2</th>\n",
       "      <td>Boi</td>\n",
       "      <td>282.20</td>\n",
       "      <td>NaN</td>\n",
       "      <td>NaN</td>\n",
       "    </tr>\n",
       "    <tr>\n",
       "      <th>3</th>\n",
       "      <td>Petróleo</td>\n",
       "      <td>424.37</td>\n",
       "      <td>NaN</td>\n",
       "      <td>NaN</td>\n",
       "    </tr>\n",
       "    <tr>\n",
       "      <th>4</th>\n",
       "      <td>Algodão</td>\n",
       "      <td>497.76</td>\n",
       "      <td>NaN</td>\n",
       "      <td>NaN</td>\n",
       "    </tr>\n",
       "    <tr>\n",
       "      <th>5</th>\n",
       "      <td>Açúcar</td>\n",
       "      <td>136.23</td>\n",
       "      <td>NaN</td>\n",
       "      <td>NaN</td>\n",
       "    </tr>\n",
       "    <tr>\n",
       "      <th>6</th>\n",
       "      <td>Café</td>\n",
       "      <td>1092.87</td>\n",
       "      <td>NaN</td>\n",
       "      <td>NaN</td>\n",
       "    </tr>\n",
       "    <tr>\n",
       "      <th>7</th>\n",
       "      <td>Ouro</td>\n",
       "      <td>321.77</td>\n",
       "      <td>NaN</td>\n",
       "      <td>NaN</td>\n",
       "    </tr>\n",
       "    <tr>\n",
       "      <th>8</th>\n",
       "      <td>Tilápia</td>\n",
       "      <td>9.05</td>\n",
       "      <td>NaN</td>\n",
       "      <td>NaN</td>\n",
       "    </tr>\n",
       "  </tbody>\n",
       "</table>\n",
       "</div>"
      ],
      "text/plain": [
       "    Produto  Preço Ideal  Preço Atual  Comprar\n",
       "0     Milho        85.32          NaN      NaN\n",
       "1      Soja       163.59          NaN      NaN\n",
       "2       Boi       282.20          NaN      NaN\n",
       "3  Petróleo       424.37          NaN      NaN\n",
       "4   Algodão       497.76          NaN      NaN\n",
       "5    Açúcar       136.23          NaN      NaN\n",
       "6      Café      1092.87          NaN      NaN\n",
       "7      Ouro       321.77          NaN      NaN\n",
       "8   Tilápia         9.05          NaN      NaN"
      ]
     },
     "metadata": {},
     "output_type": "display_data"
    }
   ],
   "source": [
    "# importar a base de dados\n",
    "import pandas as pd\n",
    "tabela = pd.read_excel('commodities.xlsx')\n",
    "display(tabela)"
   ]
  },
  {
   "cell_type": "code",
   "execution_count": 4,
   "id": "63ab222f",
   "metadata": {
    "scrolled": true
   },
   "outputs": [
    {
     "ename": "ModuleNotFoundError",
     "evalue": "No module named 'selenium'",
     "output_type": "error",
     "traceback": [
      "\u001b[1;31m---------------------------------------------------------------------------\u001b[0m",
      "\u001b[1;31mModuleNotFoundError\u001b[0m                       Traceback (most recent call last)",
      "Cell \u001b[1;32mIn[4], line 2\u001b[0m\n\u001b[0;32m      1\u001b[0m \u001b[38;5;66;03m#abrir o navegador e pegar o preço atual do produto\u001b[39;00m\n\u001b[1;32m----> 2\u001b[0m \u001b[38;5;28;01mfrom\u001b[39;00m \u001b[38;5;21;01mselenium\u001b[39;00m \u001b[38;5;28;01mimport\u001b[39;00m webdriver\n\u001b[0;32m      3\u001b[0m \u001b[38;5;66;03m#import unicodedata \u001b[39;00m\n\u001b[0;32m      4\u001b[0m \u001b[38;5;66;03m#link = unicodedata.normalize('NFKD', link).encode('ascii', 'ignore')\u001b[39;00m\n\u001b[0;32m      5\u001b[0m navegador \u001b[38;5;241m=\u001b[39m webdriver\u001b[38;5;241m.\u001b[39mChrome()\n",
      "\u001b[1;31mModuleNotFoundError\u001b[0m: No module named 'selenium'"
     ]
    }
   ],
   "source": [
    "#abrir o navegador e pegar o preço atual do produto\n",
    "from selenium import webdriver\n",
    "#import unicodedata \n",
    "#link = unicodedata.normalize('NFKD', link).encode('ascii', 'ignore')\n",
    "navegador = webdriver.Chrome()\n",
    "for linha in tabela.index:\n",
    "    produto = tabela.loc[linha, 'Produto'].replace('ç', 'c').replace('ú', 'u').replace('é', 'e').replace('á', 'a').replace('ã', 'a').replace('ó', 'o')\n",
    "    navegador.get(f\"https://www.melhorcambio.com/{produto}-hoje\")\n",
    "    cotacao = navegador.find_element('xpath', '//*[@id=\"comercial\"]').get_attribute('value')\n",
    "    cotacao = float(f'{cotacao:,.2f}').replace('.', '').replace(',', '.')\n",
    "    print(cotacao)\n",
    "    #atualizando a base de dados\n",
    "    tabela.loc[linha , 'Preço Atual'] = cotacao"
   ]
  },
  {
   "cell_type": "code",
   "execution_count": 67,
   "id": "e293e377",
   "metadata": {},
   "outputs": [
    {
     "data": {
      "text/html": [
       "<div>\n",
       "<style scoped>\n",
       "    .dataframe tbody tr th:only-of-type {\n",
       "        vertical-align: middle;\n",
       "    }\n",
       "\n",
       "    .dataframe tbody tr th {\n",
       "        vertical-align: top;\n",
       "    }\n",
       "\n",
       "    .dataframe thead th {\n",
       "        text-align: right;\n",
       "    }\n",
       "</style>\n",
       "<table border=\"1\" class=\"dataframe\">\n",
       "  <thead>\n",
       "    <tr style=\"text-align: right;\">\n",
       "      <th></th>\n",
       "      <th>Produto</th>\n",
       "      <th>Preço Ideal</th>\n",
       "      <th>Preço Atual</th>\n",
       "      <th>Comprar</th>\n",
       "    </tr>\n",
       "  </thead>\n",
       "  <tbody>\n",
       "    <tr>\n",
       "      <th>0</th>\n",
       "      <td>Milho</td>\n",
       "      <td>85.32</td>\n",
       "      <td>55.83</td>\n",
       "      <td>True</td>\n",
       "    </tr>\n",
       "    <tr>\n",
       "      <th>1</th>\n",
       "      <td>Soja</td>\n",
       "      <td>163.59</td>\n",
       "      <td>132.79</td>\n",
       "      <td>True</td>\n",
       "    </tr>\n",
       "    <tr>\n",
       "      <th>2</th>\n",
       "      <td>Boi</td>\n",
       "      <td>282.20</td>\n",
       "      <td>263.55</td>\n",
       "      <td>True</td>\n",
       "    </tr>\n",
       "    <tr>\n",
       "      <th>3</th>\n",
       "      <td>Petróleo</td>\n",
       "      <td>424.37</td>\n",
       "      <td>382.78</td>\n",
       "      <td>True</td>\n",
       "    </tr>\n",
       "    <tr>\n",
       "      <th>4</th>\n",
       "      <td>Algodão</td>\n",
       "      <td>497.76</td>\n",
       "      <td>408.43</td>\n",
       "      <td>True</td>\n",
       "    </tr>\n",
       "    <tr>\n",
       "      <th>5</th>\n",
       "      <td>Açúcar</td>\n",
       "      <td>136.23</td>\n",
       "      <td>151.58</td>\n",
       "      <td>False</td>\n",
       "    </tr>\n",
       "    <tr>\n",
       "      <th>6</th>\n",
       "      <td>Café</td>\n",
       "      <td>1092.87</td>\n",
       "      <td>1040.61</td>\n",
       "      <td>True</td>\n",
       "    </tr>\n",
       "    <tr>\n",
       "      <th>7</th>\n",
       "      <td>Ouro</td>\n",
       "      <td>321.77</td>\n",
       "      <td>316.08</td>\n",
       "      <td>True</td>\n",
       "    </tr>\n",
       "    <tr>\n",
       "      <th>8</th>\n",
       "      <td>Tilápia</td>\n",
       "      <td>9.05</td>\n",
       "      <td>9.45</td>\n",
       "      <td>False</td>\n",
       "    </tr>\n",
       "  </tbody>\n",
       "</table>\n",
       "</div>"
      ],
      "text/plain": [
       "    Produto  Preço Ideal  Preço Atual  Comprar\n",
       "0     Milho        85.32        55.83     True\n",
       "1      Soja       163.59       132.79     True\n",
       "2       Boi       282.20       263.55     True\n",
       "3  Petróleo       424.37       382.78     True\n",
       "4   Algodão       497.76       408.43     True\n",
       "5    Açúcar       136.23       151.58    False\n",
       "6      Café      1092.87      1040.61     True\n",
       "7      Ouro       321.77       316.08     True\n",
       "8   Tilápia         9.05         9.45    False"
      ]
     },
     "metadata": {},
     "output_type": "display_data"
    }
   ],
   "source": [
    "#Condição de comprar ou não\n",
    "tabela['Comprar'] = tabela['Preço Atual'] < tabela['Preço Ideal']  \n",
    "display(tabela)"
   ]
  },
  {
   "cell_type": "code",
   "execution_count": 69,
   "id": "7878b95e",
   "metadata": {},
   "outputs": [],
   "source": [
    "#Exportar a base de dados atualizada\n",
    "navegador.quit()\n",
    "tabela.to_excel('Commodites_atualizado.xlsx')"
   ]
  },
  {
   "cell_type": "code",
   "execution_count": 54,
   "id": "132e5dfa",
   "metadata": {},
   "outputs": [
    {
     "name": "stderr",
     "output_type": "stream",
     "text": [
      "ERROR: Could not find a version that satisfies the requirement unicodedata (from versions: none)\n",
      "ERROR: No matching distribution found for unicodedata\n"
     ]
    }
   ],
   "source": [
    "!pip install unicodedata"
   ]
  }
 ],
 "metadata": {
  "colab": {
   "provenance": []
  },
  "kernelspec": {
   "display_name": "Python 3 (ipykernel)",
   "language": "python",
   "name": "python3"
  },
  "language_info": {
   "codemirror_mode": {
    "name": "ipython",
    "version": 3
   },
   "file_extension": ".py",
   "mimetype": "text/x-python",
   "name": "python",
   "nbconvert_exporter": "python",
   "pygments_lexer": "ipython3",
   "version": "3.10.9"
  }
 },
 "nbformat": 4,
 "nbformat_minor": 5
}
