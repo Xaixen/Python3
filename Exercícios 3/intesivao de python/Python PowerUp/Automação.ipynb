{
 "cells": [
  {
   "cell_type": "markdown",
   "id": "a6956d8c",
   "metadata": {},
   "source": [
    "## Automação de tarefas"
   ]
  },
  {
   "cell_type": "code",
   "execution_count": 122,
   "id": "b9f6efe3",
   "metadata": {},
   "outputs": [],
   "source": [
    "# pyautogui.write -> escrever um texto\n",
    "# pyautogui.press -> apertar 1 tecla\n",
    "# pyautogui.click -> clicar em algum lugar da tela\n",
    "# pyautogui.hotkey -> combinação de teclas"
   ]
  },
  {
   "cell_type": "code",
   "execution_count": 123,
   "id": "7081441b",
   "metadata": {},
   "outputs": [],
   "source": [
    "#importar bibliotecas\n",
    "import pyautogui as pg\n",
    "from time import sleep"
   ]
  },
  {
   "cell_type": "code",
   "execution_count": 124,
   "id": "9f9af5f0",
   "metadata": {},
   "outputs": [],
   "source": [
    "# Passo 1: Entrar no sistema da empresa \n",
    "     #https://dlp.hashtagtreinamentos.com/python/intensivao/login\n",
    "pg.PAUSE = 1.5\n",
    "pg.hotkey('Ctrl','t')\n",
    "pg.write('https://dlp.hashtagtreinamentos.com/python/intensivao/login')\n",
    "pg.press('enter')"
   ]
  },
  {
   "cell_type": "code",
   "execution_count": 125,
   "id": "fd00a819",
   "metadata": {},
   "outputs": [],
   "source": [
    "# Passo 2: fazer o login\n",
    "pg.press('tab')\n",
    "pg.write('gorila_zorde2000@gmail.com')\n",
    "pg.press('tab')\n",
    "pg.write('123456')\n",
    "pg.press('tab')\n",
    "pg.press('enter')"
   ]
  },
  {
   "cell_type": "code",
   "execution_count": 126,
   "id": "68b24878",
   "metadata": {},
   "outputs": [
    {
     "name": "stdout",
     "output_type": "stream",
     "text": [
      "         codigo       marca        tipo  categoria  preco_unitario  custo  \\\n",
      "0    MOLO000251    Logitech       Mouse          1           25.95    6.5   \n",
      "1    MOLO000192    Logitech       Mouse          2           19.95    5.0   \n",
      "2    CAHA000251     Hashtag      Camisa          1           25.00   11.0   \n",
      "3    CAHA000252     Hashtag      Camisa          2           25.00   11.0   \n",
      "4    MOMU000111  Multilaser       Mouse          1           11.99    3.4   \n",
      "..          ...         ...         ...        ...             ...    ...   \n",
      "288  ACAP000192       Apple  Acessorios          2           19.00    3.8   \n",
      "289  ACSA0009.3     Samsung  Acessorios          3            9.55    2.1   \n",
      "290  CEMO000271    Motorola     Celular          1          279.00   72.5   \n",
      "291  FOMO000152    Motorola        Fone          2          150.00   33.0   \n",
      "292  CEMO000223    Motorola     Celular          3          229.00   55.0   \n",
      "\n",
      "                  obs  \n",
      "0                 NaN  \n",
      "1                 NaN  \n",
      "2                 NaN  \n",
      "3    Conferir estoque  \n",
      "4                 NaN  \n",
      "..                ...  \n",
      "288               NaN  \n",
      "289               NaN  \n",
      "290               NaN  \n",
      "291               NaN  \n",
      "292               NaN  \n",
      "\n",
      "[293 rows x 7 columns]\n"
     ]
    }
   ],
   "source": [
    "#importar bases de dados\n",
    "import pandas as pd\n",
    "tabela = pd.read_csv('produtos.csv')\n",
    "print(tabela)"
   ]
  },
  {
   "cell_type": "code",
   "execution_count": 127,
   "id": "5a5ba120",
   "metadata": {
    "scrolled": true
   },
   "outputs": [
    {
     "ename": "KeyboardInterrupt",
     "evalue": "",
     "output_type": "error",
     "traceback": [
      "\u001b[1;31m---------------------------------------------------------------------------\u001b[0m",
      "\u001b[1;31mKeyboardInterrupt\u001b[0m                         Traceback (most recent call last)",
      "Cell \u001b[1;32mIn[127], line 10\u001b[0m\n\u001b[0;32m      8\u001b[0m         pg\u001b[38;5;241m.\u001b[39mscroll(\u001b[38;5;241m-\u001b[39m\u001b[38;5;241m500\u001b[39m)\n\u001b[0;32m      9\u001b[0m     pg\u001b[38;5;241m.\u001b[39mwrite(\u001b[38;5;28mstr\u001b[39m(codigo))\n\u001b[1;32m---> 10\u001b[0m     \u001b[43mpg\u001b[49m\u001b[38;5;241;43m.\u001b[39;49m\u001b[43mpress\u001b[49m\u001b[43m(\u001b[49m\u001b[38;5;124;43m'\u001b[39;49m\u001b[38;5;124;43mtab\u001b[39;49m\u001b[38;5;124;43m'\u001b[39;49m\u001b[43m)\u001b[49m\n\u001b[0;32m     11\u001b[0m pg\u001b[38;5;241m.\u001b[39mpress(\u001b[38;5;124m'\u001b[39m\u001b[38;5;124menter\u001b[39m\u001b[38;5;124m'\u001b[39m)\n\u001b[0;32m     12\u001b[0m pg\u001b[38;5;241m.\u001b[39mscroll(\u001b[38;5;241m500\u001b[39m)\n",
      "File \u001b[1;32m~\\anaconda3\\lib\\site-packages\\pyautogui\\__init__.py:595\u001b[0m, in \u001b[0;36m_genericPyAutoGUIChecks.<locals>.wrapper\u001b[1;34m(*args, **kwargs)\u001b[0m\n\u001b[0;32m    593\u001b[0m failSafeCheck()\n\u001b[0;32m    594\u001b[0m returnVal \u001b[38;5;241m=\u001b[39m wrappedFunction(\u001b[38;5;241m*\u001b[39margs, \u001b[38;5;241m*\u001b[39m\u001b[38;5;241m*\u001b[39mkwargs)\n\u001b[1;32m--> 595\u001b[0m \u001b[43m_handlePause\u001b[49m\u001b[43m(\u001b[49m\u001b[43mkwargs\u001b[49m\u001b[38;5;241;43m.\u001b[39;49m\u001b[43mget\u001b[49m\u001b[43m(\u001b[49m\u001b[38;5;124;43m\"\u001b[39;49m\u001b[38;5;124;43m_pause\u001b[39;49m\u001b[38;5;124;43m\"\u001b[39;49m\u001b[43m,\u001b[49m\u001b[43m \u001b[49m\u001b[38;5;28;43;01mTrue\u001b[39;49;00m\u001b[43m)\u001b[49m\u001b[43m)\u001b[49m\n\u001b[0;32m    596\u001b[0m \u001b[38;5;28;01mreturn\u001b[39;00m returnVal\n",
      "File \u001b[1;32m~\\anaconda3\\lib\\site-packages\\pyautogui\\__init__.py:639\u001b[0m, in \u001b[0;36m_handlePause\u001b[1;34m(_pause)\u001b[0m\n\u001b[0;32m    637\u001b[0m \u001b[38;5;28;01mif\u001b[39;00m _pause:\n\u001b[0;32m    638\u001b[0m     \u001b[38;5;28;01massert\u001b[39;00m \u001b[38;5;28misinstance\u001b[39m(PAUSE, \u001b[38;5;28mint\u001b[39m) \u001b[38;5;129;01mor\u001b[39;00m \u001b[38;5;28misinstance\u001b[39m(PAUSE, \u001b[38;5;28mfloat\u001b[39m)\n\u001b[1;32m--> 639\u001b[0m     \u001b[43mtime\u001b[49m\u001b[38;5;241;43m.\u001b[39;49m\u001b[43msleep\u001b[49m\u001b[43m(\u001b[49m\u001b[43mPAUSE\u001b[49m\u001b[43m)\u001b[49m\n",
      "\u001b[1;31mKeyboardInterrupt\u001b[0m: "
     ]
    }
   ],
   "source": [
    "#Cadastrar produtosMOLO000251\n",
    "\n",
    "for linha in tabela.index:\n",
    "    pg.click(x=417, y=253)\n",
    "    for coluna in tabela.columns:\n",
    "        codigo = tabela.loc[linha, coluna]\n",
    "        if coluna == 'preco_unitario':\n",
    "            pg.scroll(-500)\n",
    "        pg.write(str(codigo))\n",
    "        pg.press('tab')\n",
    "    pg.press('enter')\n",
    "    pg.scroll(500)\n",
    "    sleep(2)"
   ]
  },
  {
   "cell_type": "code",
   "execution_count": null,
   "id": "3c340fb6",
   "metadata": {
    "scrolled": false
   },
   "outputs": [],
   "source": [
    "#localizaçao do mouse\n",
    "sleep(3)\n",
    "print(pyautogui.position())\n",
    "#pg.scroll(-500)\n"
   ]
  },
  {
   "cell_type": "markdown",
   "id": "94b4f110",
   "metadata": {},
   "source": [
    "## "
   ]
  }
 ],
 "metadata": {
  "kernelspec": {
   "display_name": "Python 3 (ipykernel)",
   "language": "python",
   "name": "python3"
  },
  "language_info": {
   "codemirror_mode": {
    "name": "ipython",
    "version": 3
   },
   "file_extension": ".py",
   "mimetype": "text/x-python",
   "name": "python",
   "nbconvert_exporter": "python",
   "pygments_lexer": "ipython3",
   "version": "3.10.9"
  }
 },
 "nbformat": 4,
 "nbformat_minor": 5
}
