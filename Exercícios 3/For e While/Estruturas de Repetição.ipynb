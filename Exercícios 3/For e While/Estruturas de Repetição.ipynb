{
 "cells": [
  {
   "cell_type": "markdown",
   "id": "ac60394f",
   "metadata": {
    "id": "ac60394f"
   },
   "source": [
    "# Estruturas de repetição\n",
    "\n",
    "<span style=\"color: red;\"><b>Todos os exercícios são feitos partindo-se do pressuposto de que todas as entradas são dadas de forma correta. Casos limite não mencionados no enunciado não são abordados porque não fazem parte do exercício.</b></span>"
   ]
  },
  {
   "cell_type": "markdown",
   "id": "017affd0",
   "metadata": {
    "id": "017affd0"
   },
   "source": [
    "#### 1. Faça um programa que peça uma nota, entre zero e dez. Mostre uma mensagem caso o valor seja inválido e continue pedindo até que o usuário informe um valor válido."
   ]
  },
  {
   "cell_type": "code",
   "execution_count": 2,
   "id": "5f12870d",
   "metadata": {
    "id": "5f12870d"
   },
   "outputs": [
    {
     "name": "stdout",
     "output_type": "stream",
     "text": [
      "DIGITE 0 PARA SAIR\n",
      "----------------------------------------\n",
      "Digite um valor de R$1,00 a R$10,00: 7\n",
      "R$7.0\n",
      "Digite um valor de R$1,00 a R$10,00: 9\n",
      "R$9.0\n",
      "Digite um valor de R$1,00 a R$10,00: 50\n",
      "Valor Inválido\n",
      "Digite um valor de R$1,00 a R$10,00: 0\n",
      "Valor Inválido\n",
      "FINALIZADO\n"
     ]
    }
   ],
   "source": [
    "print('DIGITE 0 PARA SAIR')\n",
    "print('--' * 20 )\n",
    "while True:\n",
    "    money = float(input('Digite um valor de R$1,00 a R$10,00: '))\n",
    "    if money < 10 and money > 1:\n",
    "        print(f'R${money}')\n",
    "    else:\n",
    "        print('Valor Inválido')\n",
    "    if money == 0:\n",
    "        print('FINALIZADO')\n",
    "        break"
   ]
  },
  {
   "cell_type": "markdown",
   "id": "dd0c6d56",
   "metadata": {
    "id": "dd0c6d56"
   },
   "source": [
    "#### 2. Faça um programa que leia um nome de usuário e a sua senha e não aceite a senha igual ao nome do usuário, mostrando uma mensagem de erro e voltando a pedir as informações."
   ]
  },
  {
   "cell_type": "code",
   "execution_count": 4,
   "id": "f6579866",
   "metadata": {
    "id": "f6579866"
   },
   "outputs": [
    {
     "name": "stdout",
     "output_type": "stream",
     "text": [
      "Digite seu nome: coelho\n",
      "Informe sua senha: coelho\n",
      "Senha invalida!\n",
      "Digite seu nome: lucas\n",
      "Informe sua senha: lucas\n",
      "Senha invalida!\n",
      "Digite seu nome: mimama\n",
      "Informe sua senha: ma\n",
      "Login Salvo\n"
     ]
    }
   ],
   "source": [
    "while True:\n",
    "    nome = str(input('Digite seu nome: '))\n",
    "    senha = str(input('Informe sua senha: '))\n",
    "    if senha == nome:\n",
    "        print('Senha invalida!')\n",
    "    else:\n",
    "        print('Login Salvo')\n",
    "        break"
   ]
  },
  {
   "cell_type": "code",
   "execution_count": null,
   "id": "72e4f3cf",
   "metadata": {},
   "outputs": [],
   "source": []
  },
  {
   "cell_type": "markdown",
   "id": "ed113a82",
   "metadata": {
    "id": "ed113a82"
   },
   "source": [
    "#### 3. Faça um programa que leia e valide as seguintes informações (e para cada uma delas, continue pedindo a informação até o usuário inserir corretamente):\n",
    "##### Nome: maior que 3 caracteres;\n",
    "##### Idade: entre 0 e 150;\n",
    "##### Salário: maior que zero;\n",
    "##### Sexo: 'f' ou 'm';\n",
    "##### Estado Civil: 's', 'c', 'v', 'd';"
   ]
  },
  {
   "cell_type": "code",
   "execution_count": 11,
   "id": "3284f187",
   "metadata": {
    "id": "3284f187"
   },
   "outputs": [
    {
     "name": "stdout",
     "output_type": "stream",
     "text": [
      "Digite nome: p\n"
     ]
    },
    {
     "ename": "IndexError",
     "evalue": "string index out of range",
     "output_type": "error",
     "traceback": [
      "\u001b[1;31m---------------------------------------------------------------------------\u001b[0m",
      "\u001b[1;31mIndexError\u001b[0m                                Traceback (most recent call last)",
      "Cell \u001b[1;32mIn[11], line 3\u001b[0m\n\u001b[0;32m      1\u001b[0m \u001b[38;5;28;01mwhile\u001b[39;00m \u001b[38;5;28;01mTrue\u001b[39;00m:\n\u001b[0;32m      2\u001b[0m     nome \u001b[38;5;241m=\u001b[39m \u001b[38;5;28mstr\u001b[39m(\u001b[38;5;28minput\u001b[39m(\u001b[38;5;124m'\u001b[39m\u001b[38;5;124mDigite nome: \u001b[39m\u001b[38;5;124m'\u001b[39m))\n\u001b[1;32m----> 3\u001b[0m     \u001b[38;5;28;01mif\u001b[39;00m nome \u001b[38;5;241m<\u001b[39m \u001b[43mnome\u001b[49m\u001b[43m[\u001b[49m\u001b[38;5;241;43m2\u001b[39;49m\u001b[43m]\u001b[49m:\n\u001b[0;32m      4\u001b[0m         \u001b[38;5;28mprint\u001b[39m(\u001b[38;5;124m'\u001b[39m\u001b[38;5;124mNome invalido. Repita novamente!\u001b[39m\u001b[38;5;124m'\u001b[39m)\n\u001b[0;32m      5\u001b[0m     \u001b[38;5;28;01melse\u001b[39;00m:\n",
      "\u001b[1;31mIndexError\u001b[0m: string index out of range"
     ]
    }
   ],
   "source": [
    "while True:\n",
    "    nome = str(input('Digite nome: '))\n",
    "    if nome <= nome[2]:\n",
    "        print('Nome invalido. Repita novamente!')\n",
    "    else:\n",
    "        break\n",
    "        \n",
    "    \n",
    "            "
   ]
  },
  {
   "cell_type": "markdown",
   "id": "2f25dceb",
   "metadata": {
    "id": "2f25dceb"
   },
   "source": [
    "#### 4. Supondo que a população de um país A seja da ordem de 80000 habitantes com uma taxa anual de crescimento de 3% e que a população de B seja 200000 habitantes com uma taxa de crescimento de 1.5%. Faça um programa que calcule e escreva o número de anos necessários para que a população do país A ultrapasse ou iguale a população do país B, mantidas as taxas de crescimento."
   ]
  },
  {
   "cell_type": "code",
   "execution_count": 5,
   "id": "7ad0f5e9",
   "metadata": {
    "id": "7ad0f5e9"
   },
   "outputs": [
    {
     "name": "stdout",
     "output_type": "stream",
     "text": [
      "-=-=-=-=-=-=-=-=-=-=\n",
      "POPULAÇÃO 1º ANO\n",
      "PAIS A = 104000.0  PAIS B = 210000.0\n",
      "-=-=-=-=-=-=-=-=-=-=\n",
      "POPULAÇÃO 2º ANO\n",
      "PAIS A = 135200.0  PAIS B = 220500.0\n",
      "-=-=-=-=-=-=-=-=-=-=\n",
      "POPULAÇÃO 3º ANO\n",
      "PAIS A = 175760.0  PAIS B = 231525.0\n",
      "-=-=-=-=-=-=-=-=-=-=\n",
      "POPULAÇÃO 4º ANO\n",
      "PAIS A = 228488.0  PAIS B = 243101.25\n",
      "-=-=-=-=-=-=-=-=-=-=\n",
      "POPULAÇÃO 5º ANO\n",
      "PAIS A = 297034.4  PAIS B = 255256.3125\n",
      "Demorou 5 anos para p pais A ser maior em população do que o paisB\n"
     ]
    }
   ],
   "source": [
    "paisa = 80000\n",
    "paisb = 200000\n",
    "cont = 0\n",
    "while True:\n",
    "    paisa = paisa * 1.30\n",
    "    paisb = paisb * 1.05\n",
    "    cont += 1\n",
    "    print('-=' * 10)\n",
    "    print(f'POPULAÇÃO {cont}º ANO')\n",
    "    print(f'PAIS A = {paisa}  PAIS B = {paisb}')\n",
    "    if paisa > paisb:\n",
    "        print(f'Demorou {cont} anos para p pais A ser maior em população do que o paisB')\n",
    "        break"
   ]
  },
  {
   "cell_type": "markdown",
   "id": "e9626858",
   "metadata": {
    "id": "e9626858"
   },
   "source": [
    "#### 5. Altere o programa anterior permitindo ao usuário informar as populações e as taxas de crescimento iniciais. Valide a entrada e permita repetir a operação."
   ]
  },
  {
   "cell_type": "code",
   "execution_count": null,
   "id": "c7e250a4",
   "metadata": {
    "id": "c7e250a4"
   },
   "outputs": [],
   "source": []
  },
  {
   "cell_type": "markdown",
   "id": "b3d268b5",
   "metadata": {
    "id": "b3d268b5"
   },
   "source": [
    "#### 6. Faça um programa que peça para o usuário inserir o faturamento dos últimos 5 meses (individualmente) e informe o maior faturamento"
   ]
  },
  {
   "cell_type": "code",
   "execution_count": 15,
   "id": "8078e7a5",
   "metadata": {
    "id": "8078e7a5"
   },
   "outputs": [
    {
     "name": "stdout",
     "output_type": "stream",
     "text": [
      "Informe o faturamento do 1 mês: 10\n",
      "Informe o faturamento do 2 mês: 20\n",
      "Informe o faturamento do 3 mês: 30\n",
      "Informe o faturamento do 4 mês: 40\n",
      "Informe o faturamento do 5 mês: 50\n",
      "O maior faturamneto foi 5°Mês com 50\n",
      "Faturamento Total de: 150\n"
     ]
    }
   ],
   "source": [
    "cont = maior = soma = 0\n",
    "while True:\n",
    "    cont += 1\n",
    "    fat = int(input(f'Informe o faturamento do {cont} mês: '))\n",
    "    if fat > maior:\n",
    "        maior = fat\n",
    "    soma += fat\n",
    "    if cont == 5:\n",
    "        break\n",
    "print(f'O maior faturamneto foi {cont}°Mês com {maior}')\n",
    "print(f'Faturamento Total de: R${soma}')"
   ]
  },
  {
   "cell_type": "markdown",
   "id": "6407824c",
   "metadata": {
    "id": "6407824c"
   },
   "source": [
    "#### 7. Faça um programa que peça para o usuário inserir o faturamento dos últimos 5 meses (individualmente) e informe o faturamento total (soma) e o faturamento médio por mês (média)."
   ]
  },
  {
   "cell_type": "code",
   "execution_count": null,
   "id": "a02320d1",
   "metadata": {
    "id": "a02320d1"
   },
   "outputs": [],
   "source": []
  },
  {
   "cell_type": "markdown",
   "id": "703f3c4d",
   "metadata": {
    "id": "703f3c4d"
   },
   "source": [
    "#### 8. Faça um programa que consiga categorizar a idade das equipes de uma empresa. Faça um programa que peça para n pessoas a sua idade, ao final o programa devera verificar se a média de idade da equipe varia entre 0 e 25 (jovem) ,26 e 60 (sênior) e maior que 60 (idosa); e então, dizer se a equipe é jovem, sênior ou idosa, conforme a média calculada."
   ]
  },
  {
   "cell_type": "code",
   "execution_count": 21,
   "id": "b56a85de",
   "metadata": {
    "id": "b56a85de"
   },
   "outputs": [
    {
     "name": "stdout",
     "output_type": "stream",
     "text": [
      "Informe a 1° idade: 15\n",
      "Informe a 2° idade: 30\n",
      "Informe a 3° idade: 40\n",
      "Informe a 4° idade: 55\n",
      "Informe a 5° idade: 60\n",
      "Informe a 6° idade: 5\n",
      "Informe a 7° idade: 77\n",
      "Informe a 8° idade: 0\n",
      "Equipe Jovem\n"
     ]
    }
   ],
   "source": [
    "cont = 0\n",
    "while True:\n",
    "    cont += 1\n",
    "    ida = int(input(f'Informe a {cont}° idade: '))\n",
    "    media = ida / cont\n",
    "    if ida == 0:\n",
    "        break\n",
    "if media <= 25:\n",
    "        print('Equipe Jovem')\n",
    "elif media >= 26 and media <= 60:\n",
    "    print('Equipe Sênior')\n",
    "else:\n",
    "    print('Equipe Idosa')"
   ]
  },
  {
   "cell_type": "markdown",
   "id": "aad21b98",
   "metadata": {
    "id": "aad21b98"
   },
   "source": [
    "#### 9. Numa eleição existem três candidatos. Faça um programa que peça o número total de eleitores. Peça para cada eleitor votar e ao final mostrar o número de votos de cada candidato."
   ]
  },
  {
   "cell_type": "code",
   "execution_count": null,
   "id": "84aa7a93",
   "metadata": {
    "id": "84aa7a93"
   },
   "outputs": [],
   "source": []
  },
  {
   "cell_type": "markdown",
   "id": "6e306453",
   "metadata": {
    "id": "6e306453"
   },
   "source": [
    "#### 10. Faça um programa que calcule o valor total investido por um colecionador em sua coleção de CDs e o valor médio gasto em cada um deles. O usuário deverá informar a quantidade de CDs e o valor para em cada um."
   ]
  },
  {
   "cell_type": "code",
   "execution_count": null,
   "id": "6b7fa4a2",
   "metadata": {
    "id": "6b7fa4a2"
   },
   "outputs": [],
   "source": []
  },
  {
   "cell_type": "markdown",
   "id": "f19c8d86",
   "metadata": {
    "id": "f19c8d86"
   },
   "source": [
    "#### 11. O Sr. Manoel Joaquim possui uma grande loja de artigos de R\\\\$ 1,99, com cerca de 10 caixas. Para agilizar o cálculo de quanto cada cliente deve pagar ele desenvolveu um tabela que contém o número de itens que o cliente comprou e ao lado o valor da conta. Desta forma a atendente do caixa precisa apenas contar quantos itens o cliente está levando e olhar na tabela de preços. Você foi contratado para desenvolver o programa que monta esta tabela de preços, que conterá os preços de 1 até 50 produtos, conforme o exemplo abaixo:\n",
    "<pre>\n",
    "Lojas Quase Dois - Tabela de preços\n",
    "1 - R$ 1.99\n",
    "2 - R$ 3.98\n",
    "...\n",
    "50 - R$ 99.50\n",
    "</pre>"
   ]
  },
  {
   "cell_type": "code",
   "execution_count": null,
   "id": "4fc4d54d",
   "metadata": {
    "id": "4fc4d54d"
   },
   "outputs": [],
   "source": []
  },
  {
   "cell_type": "markdown",
   "id": "6cd19c52",
   "metadata": {
    "id": "6cd19c52"
   },
   "source": [
    "#### 12. Um funcionário de uma empresa recebe aumento salarial anualmente: Sabe-se que:\n",
    "<pre>\n",
    "Esse funcionário foi contratado em 1995, com salário inicial de R$ 1.000,00;\n",
    "Em 1996 recebeu aumento de 1,5% sobre seu salário inicial;\n",
    "A partir de 1997 (inclusive), os aumentos salariais sempre correspondem ao dobro do percentual do ano anterior. Faça um programa que determine o salário desse funcionário em 2003. \n",
    "</pre>"
   ]
  },
  {
   "cell_type": "code",
   "execution_count": null,
   "id": "98a4811b",
   "metadata": {
    "id": "98a4811b"
   },
   "outputs": [],
   "source": []
  },
  {
   "cell_type": "markdown",
   "id": "227928d1",
   "metadata": {
    "id": "227928d1"
   },
   "source": [
    "#### 13. O cardápio de uma lanchonete é o seguinte:\n",
    "<pre>\n",
    "Especificação   Código  Preço\n",
    "Cachorro Quente 100     R$ 1,20\n",
    "Bauru Simples   101     R$ 1,30\n",
    "Bauru com ovo   102     R$ 1,50\n",
    "Hambúrguer      103     R$ 1,20\n",
    "Cheeseburguer   104     R$ 1,30\n",
    "Refrigerante    105     R$ 1,00\n",
    "Faça um programa que leia o código dos itens pedidos e as quantidades desejadas. Calcule e mostre o valor a ser pago por item (preço * quantidade) e o total geral do pedido. Considere que o cliente deve informar quando o pedido deve ser encerrado.\n",
    "</pre>"
   ]
  },
  {
   "cell_type": "code",
   "execution_count": null,
   "id": "8a784b86",
   "metadata": {
    "id": "8a784b86"
   },
   "outputs": [],
   "source": []
  },
  {
   "cell_type": "markdown",
   "id": "9877b8ba",
   "metadata": {
    "id": "9877b8ba"
   },
   "source": [
    "#### 14. Uma grande emissora de televisão quer fazer uma enquete entre os seus telespectadores para saber qual o melhor jogador após cada jogo. Para isto, faz-se necessário o desenvolvimento de um programa, que será utilizado pelas telefonistas, para a computação dos votos. Sua equipe foi contratada para desenvolver este programa, utilizando a linguagem de programação Python. Para computar cada voto, a telefonista digitará um número, entre 1 e 23, correspondente ao número da camisa do jogador. Um número de jogador igual zero, indica que a votação foi encerrada. Se um número inválido for digitado, o programa deve ignorá-lo, mostrando uma breve mensagem de aviso, e voltando a pedir outro número. Após o final da votação, o programa deverá exibir:\n",
    "<pre>a. O total de votos computados;\n",
    "b. Os números e respectivos votos de todos os jogadores que receberam votos;\n",
    "c. O percentual de votos de cada um destes jogadores;\n",
    "d. O número do jogador escolhido como o melhor jogador da partida, juntamente com o número de votos e o percentual de votos dados a ele.\n",
    "        Observe que os votos inválidos e o zero final não devem ser computados como votos. O resultado aparece ordenado pelo número do jogador. O programa deve fazer uso de arrays. O programa deverá executar o cálculo do percentual de cada jogador através de uma função. Esta função receberá dois parâmetros: o número de votos de um jogador e o total de votos. A função calculará o percentual e retornará o valor calculado. Abaixo segue uma tela de exemplo. O disposição das informações deve ser o mais próxima possível ao exemplo. Os dados são fictícios e podem mudar a cada execução do programa. Ao final, o programa deve ainda gravar os dados referentes ao resultado da votação em um arquivo texto no disco, obedecendo a mesma disposição apresentada na tela.</pre>\n",
    "```\n",
    "Enquete: Quem foi o melhor jogador?\n",
    "\n",
    "Número do jogador (0=fim): 9\n",
    "Número do jogador (0=fim): 10\n",
    "Número do jogador (0=fim): 9\n",
    "Número do jogador (0=fim): 10\n",
    "Número do jogador (0=fim): 11\n",
    "Número do jogador (0=fim): 10\n",
    "Número do jogador (0=fim): 50\n",
    "Informe um valor entre 1 e 23 ou 0 para sair!\n",
    "Número do jogador (0=fim): 9\n",
    "Número do jogador (0=fim): 9\n",
    "Número do jogador (0=fim): 0\n",
    "\n",
    "Resultado da votação:\n",
    "\n",
    "Foram computados 8 votos.\n",
    "\n",
    "Jogador Votos           %\n",
    "9               4               50,0%\n",
    "10              3               37,5%\n",
    "11              1               12,5%\n",
    "``` "
   ]
  },
  {
   "cell_type": "code",
   "execution_count": null,
   "id": "79b82364",
   "metadata": {
    "id": "79b82364"
   },
   "outputs": [],
   "source": []
  }
 ],
 "metadata": {
  "colab": {
   "collapsed_sections": [],
   "provenance": []
  },
  "kernelspec": {
   "display_name": "Python 3 (ipykernel)",
   "language": "python",
   "name": "python3"
  },
  "language_info": {
   "codemirror_mode": {
    "name": "ipython",
    "version": 3
   },
   "file_extension": ".py",
   "mimetype": "text/x-python",
   "name": "python",
   "nbconvert_exporter": "python",
   "pygments_lexer": "ipython3",
   "version": "3.10.9"
  }
 },
 "nbformat": 4,
 "nbformat_minor": 5
}
