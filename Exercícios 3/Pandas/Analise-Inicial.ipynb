{
 "cells": [
  {
   "cell_type": "markdown",
   "id": "993ee9ad",
   "metadata": {},
   "source": [
    "### Puxar base de dados"
   ]
  },
  {
   "cell_type": "code",
   "execution_count": 2,
   "id": "90e92890",
   "metadata": {
    "scrolled": true
   },
   "outputs": [
    {
     "data": {
      "text/html": [
       "<div>\n",
       "<style scoped>\n",
       "    .dataframe tbody tr th:only-of-type {\n",
       "        vertical-align: middle;\n",
       "    }\n",
       "\n",
       "    .dataframe tbody tr th {\n",
       "        vertical-align: top;\n",
       "    }\n",
       "\n",
       "    .dataframe thead th {\n",
       "        text-align: right;\n",
       "    }\n",
       "</style>\n",
       "<table border=\"1\" class=\"dataframe\">\n",
       "  <thead>\n",
       "    <tr style=\"text-align: right;\">\n",
       "      <th></th>\n",
       "      <th>Year</th>\n",
       "      <th>Month</th>\n",
       "      <th>Country</th>\n",
       "      <th>City</th>\n",
       "      <th>SH4 Code</th>\n",
       "      <th>SH4 Description</th>\n",
       "      <th>SH2 Code</th>\n",
       "      <th>SH2 Description</th>\n",
       "      <th>Economic Block</th>\n",
       "      <th>US$ FOB</th>\n",
       "      <th>Net Weight</th>\n",
       "    </tr>\n",
       "  </thead>\n",
       "  <tbody>\n",
       "    <tr>\n",
       "      <th>0</th>\n",
       "      <td>2016</td>\n",
       "      <td>1</td>\n",
       "      <td>France</td>\n",
       "      <td>Águas Mornas - SC</td>\n",
       "      <td>303</td>\n",
       "      <td>Fish, frozen, excluding fish fillets and other...</td>\n",
       "      <td>3</td>\n",
       "      <td>Fish and crustaceans, molluscs and other aquat...</td>\n",
       "      <td>Europe</td>\n",
       "      <td>79360</td>\n",
       "      <td>14150</td>\n",
       "    </tr>\n",
       "    <tr>\n",
       "      <th>1</th>\n",
       "      <td>2016</td>\n",
       "      <td>1</td>\n",
       "      <td>France</td>\n",
       "      <td>Águas Mornas - SC</td>\n",
       "      <td>303</td>\n",
       "      <td>Fish, frozen, excluding fish fillets and other...</td>\n",
       "      <td>3</td>\n",
       "      <td>Fish and crustaceans, molluscs and other aquat...</td>\n",
       "      <td>European Union (EU)</td>\n",
       "      <td>79360</td>\n",
       "      <td>14150</td>\n",
       "    </tr>\n",
       "    <tr>\n",
       "      <th>2</th>\n",
       "      <td>2016</td>\n",
       "      <td>1</td>\n",
       "      <td>France</td>\n",
       "      <td>Águas Mornas - SC</td>\n",
       "      <td>304</td>\n",
       "      <td>Fish fillets and other fish meat (whether or n...</td>\n",
       "      <td>3</td>\n",
       "      <td>Fish and crustaceans, molluscs and other aquat...</td>\n",
       "      <td>Europe</td>\n",
       "      <td>69412</td>\n",
       "      <td>9385</td>\n",
       "    </tr>\n",
       "    <tr>\n",
       "      <th>3</th>\n",
       "      <td>2016</td>\n",
       "      <td>1</td>\n",
       "      <td>France</td>\n",
       "      <td>Águas Mornas - SC</td>\n",
       "      <td>304</td>\n",
       "      <td>Fish fillets and other fish meat (whether or n...</td>\n",
       "      <td>3</td>\n",
       "      <td>Fish and crustaceans, molluscs and other aquat...</td>\n",
       "      <td>European Union (EU)</td>\n",
       "      <td>69412</td>\n",
       "      <td>9385</td>\n",
       "    </tr>\n",
       "    <tr>\n",
       "      <th>4</th>\n",
       "      <td>2016</td>\n",
       "      <td>1</td>\n",
       "      <td>France</td>\n",
       "      <td>Alfenas - MG</td>\n",
       "      <td>901</td>\n",
       "      <td>Coffee, whether or not roasted or decaffeinate...</td>\n",
       "      <td>9</td>\n",
       "      <td>Coffee, tea, maté and spices</td>\n",
       "      <td>Europe</td>\n",
       "      <td>180914</td>\n",
       "      <td>57600</td>\n",
       "    </tr>\n",
       "    <tr>\n",
       "      <th>...</th>\n",
       "      <td>...</td>\n",
       "      <td>...</td>\n",
       "      <td>...</td>\n",
       "      <td>...</td>\n",
       "      <td>...</td>\n",
       "      <td>...</td>\n",
       "      <td>...</td>\n",
       "      <td>...</td>\n",
       "      <td>...</td>\n",
       "      <td>...</td>\n",
       "      <td>...</td>\n",
       "    </tr>\n",
       "    <tr>\n",
       "      <th>142355</th>\n",
       "      <td>2020</td>\n",
       "      <td>12</td>\n",
       "      <td>France</td>\n",
       "      <td>Vinhedo - SP</td>\n",
       "      <td>8424</td>\n",
       "      <td>Mechanical appliances (whether or not hand-ope...</td>\n",
       "      <td>84</td>\n",
       "      <td>Nuclear reactors, boilers, machinery and mecha...</td>\n",
       "      <td>European Union (EU)</td>\n",
       "      <td>2316</td>\n",
       "      <td>4</td>\n",
       "    </tr>\n",
       "    <tr>\n",
       "      <th>142356</th>\n",
       "      <td>2020</td>\n",
       "      <td>12</td>\n",
       "      <td>France</td>\n",
       "      <td>Vitória de Santo Antão - PE</td>\n",
       "      <td>714</td>\n",
       "      <td>Manioc, arrowroot, salep, Jerusalem artichokes...</td>\n",
       "      <td>7</td>\n",
       "      <td>Edible vegetables and certain roots and tubers</td>\n",
       "      <td>Europe</td>\n",
       "      <td>27060</td>\n",
       "      <td>26400</td>\n",
       "    </tr>\n",
       "    <tr>\n",
       "      <th>142357</th>\n",
       "      <td>2020</td>\n",
       "      <td>12</td>\n",
       "      <td>France</td>\n",
       "      <td>Vitória de Santo Antão - PE</td>\n",
       "      <td>714</td>\n",
       "      <td>Manioc, arrowroot, salep, Jerusalem artichokes...</td>\n",
       "      <td>7</td>\n",
       "      <td>Edible vegetables and certain roots and tubers</td>\n",
       "      <td>European Union (EU)</td>\n",
       "      <td>27060</td>\n",
       "      <td>26400</td>\n",
       "    </tr>\n",
       "    <tr>\n",
       "      <th>142358</th>\n",
       "      <td>2020</td>\n",
       "      <td>12</td>\n",
       "      <td>France</td>\n",
       "      <td>Xapuri - AC</td>\n",
       "      <td>4409</td>\n",
       "      <td>Wood (including strips and friezes for parquet...</td>\n",
       "      <td>44</td>\n",
       "      <td>Wood and articles of wood; wood charcoal</td>\n",
       "      <td>Europe</td>\n",
       "      <td>31111</td>\n",
       "      <td>23045</td>\n",
       "    </tr>\n",
       "    <tr>\n",
       "      <th>142359</th>\n",
       "      <td>2020</td>\n",
       "      <td>12</td>\n",
       "      <td>France</td>\n",
       "      <td>Xapuri - AC</td>\n",
       "      <td>4409</td>\n",
       "      <td>Wood (including strips and friezes for parquet...</td>\n",
       "      <td>44</td>\n",
       "      <td>Wood and articles of wood; wood charcoal</td>\n",
       "      <td>European Union (EU)</td>\n",
       "      <td>31111</td>\n",
       "      <td>23045</td>\n",
       "    </tr>\n",
       "  </tbody>\n",
       "</table>\n",
       "<p>142360 rows × 11 columns</p>\n",
       "</div>"
      ],
      "text/plain": [
       "        Year  Month Country                         City  SH4 Code  \\\n",
       "0       2016      1  France            Águas Mornas - SC       303   \n",
       "1       2016      1  France            Águas Mornas - SC       303   \n",
       "2       2016      1  France            Águas Mornas - SC       304   \n",
       "3       2016      1  France            Águas Mornas - SC       304   \n",
       "4       2016      1  France                 Alfenas - MG       901   \n",
       "...      ...    ...     ...                          ...       ...   \n",
       "142355  2020     12  France                 Vinhedo - SP      8424   \n",
       "142356  2020     12  France  Vitória de Santo Antão - PE       714   \n",
       "142357  2020     12  France  Vitória de Santo Antão - PE       714   \n",
       "142358  2020     12  France                  Xapuri - AC      4409   \n",
       "142359  2020     12  France                  Xapuri - AC      4409   \n",
       "\n",
       "                                          SH4 Description  SH2 Code  \\\n",
       "0       Fish, frozen, excluding fish fillets and other...         3   \n",
       "1       Fish, frozen, excluding fish fillets and other...         3   \n",
       "2       Fish fillets and other fish meat (whether or n...         3   \n",
       "3       Fish fillets and other fish meat (whether or n...         3   \n",
       "4       Coffee, whether or not roasted or decaffeinate...         9   \n",
       "...                                                   ...       ...   \n",
       "142355  Mechanical appliances (whether or not hand-ope...        84   \n",
       "142356  Manioc, arrowroot, salep, Jerusalem artichokes...         7   \n",
       "142357  Manioc, arrowroot, salep, Jerusalem artichokes...         7   \n",
       "142358  Wood (including strips and friezes for parquet...        44   \n",
       "142359  Wood (including strips and friezes for parquet...        44   \n",
       "\n",
       "                                          SH2 Description  \\\n",
       "0       Fish and crustaceans, molluscs and other aquat...   \n",
       "1       Fish and crustaceans, molluscs and other aquat...   \n",
       "2       Fish and crustaceans, molluscs and other aquat...   \n",
       "3       Fish and crustaceans, molluscs and other aquat...   \n",
       "4                            Coffee, tea, maté and spices   \n",
       "...                                                   ...   \n",
       "142355  Nuclear reactors, boilers, machinery and mecha...   \n",
       "142356     Edible vegetables and certain roots and tubers   \n",
       "142357     Edible vegetables and certain roots and tubers   \n",
       "142358           Wood and articles of wood; wood charcoal   \n",
       "142359           Wood and articles of wood; wood charcoal   \n",
       "\n",
       "             Economic Block  US$ FOB  Net Weight  \n",
       "0                    Europe    79360       14150  \n",
       "1       European Union (EU)    79360       14150  \n",
       "2                    Europe    69412        9385  \n",
       "3       European Union (EU)    69412        9385  \n",
       "4                    Europe   180914       57600  \n",
       "...                     ...      ...         ...  \n",
       "142355  European Union (EU)     2316           4  \n",
       "142356               Europe    27060       26400  \n",
       "142357  European Union (EU)    27060       26400  \n",
       "142358               Europe    31111       23045  \n",
       "142359  European Union (EU)    31111       23045  \n",
       "\n",
       "[142360 rows x 11 columns]"
      ]
     },
     "metadata": {},
     "output_type": "display_data"
    }
   ],
   "source": [
    "#Importando tabela\n",
    "import pandas as pd\n",
    "tabela = pd.read_csv('exportacoes_franca.csv', decimal = ',')\n",
    "display(tabela)"
   ]
  },
  {
   "cell_type": "markdown",
   "id": "4ad76a65",
   "metadata": {},
   "source": [
    "### Informações Gerais"
   ]
  },
  {
   "cell_type": "code",
   "execution_count": 122,
   "id": "cce34f4d",
   "metadata": {
    "scrolled": true
   },
   "outputs": [
    {
     "name": "stdout",
     "output_type": "stream",
     "text": [
      "<class 'pandas.core.frame.DataFrame'>\n",
      "RangeIndex: 142360 entries, 0 to 142359\n",
      "Data columns (total 11 columns):\n",
      " #   Column           Non-Null Count   Dtype \n",
      "---  ------           --------------   ----- \n",
      " 0   Year             142360 non-null  int64 \n",
      " 1   Month            142360 non-null  int64 \n",
      " 2   Country          142360 non-null  object\n",
      " 3   City             142360 non-null  object\n",
      " 4   SH4 Code         142360 non-null  int64 \n",
      " 5   SH4 Description  142360 non-null  object\n",
      " 6   SH2 Code         142360 non-null  int64 \n",
      " 7   SH2 Description  142360 non-null  object\n",
      " 8   Economic Block   142360 non-null  object\n",
      " 9   US$ FOB          142360 non-null  int64 \n",
      " 10  Net Weight       142360 non-null  int64 \n",
      "dtypes: int64(6), object(5)\n",
      "memory usage: 11.9+ MB\n",
      "None\n"
     ]
    }
   ],
   "source": [
    "#Checando as infomações da tabela\n",
    "print(tabela.info())\n",
    "#display(tabela.describe())"
   ]
  },
  {
   "cell_type": "markdown",
   "id": "2daa0fa9",
   "metadata": {},
   "source": [
    "### Como foi a evolução das exportações para a frança ao longo dos anos?"
   ]
  },
  {
   "cell_type": "code",
   "execution_count": 3,
   "id": "f02fb7d6",
   "metadata": {},
   "outputs": [
    {
     "data": {
      "text/html": [
       "<div>\n",
       "<style scoped>\n",
       "    .dataframe tbody tr th:only-of-type {\n",
       "        vertical-align: middle;\n",
       "    }\n",
       "\n",
       "    .dataframe tbody tr th {\n",
       "        vertical-align: top;\n",
       "    }\n",
       "\n",
       "    .dataframe thead th {\n",
       "        text-align: right;\n",
       "    }\n",
       "</style>\n",
       "<table border=\"1\" class=\"dataframe\">\n",
       "  <thead>\n",
       "    <tr style=\"text-align: right;\">\n",
       "      <th></th>\n",
       "      <th>US$ FOB</th>\n",
       "      <th>Net Weight</th>\n",
       "    </tr>\n",
       "    <tr>\n",
       "      <th>Year</th>\n",
       "      <th></th>\n",
       "      <th></th>\n",
       "    </tr>\n",
       "  </thead>\n",
       "  <tbody>\n",
       "    <tr>\n",
       "      <th>2016</th>\n",
       "      <td>4615500082</td>\n",
       "      <td>21798116518</td>\n",
       "    </tr>\n",
       "    <tr>\n",
       "      <th>2017</th>\n",
       "      <td>4448705456</td>\n",
       "      <td>22556529252</td>\n",
       "    </tr>\n",
       "    <tr>\n",
       "      <th>2018</th>\n",
       "      <td>5239424416</td>\n",
       "      <td>20905240132</td>\n",
       "    </tr>\n",
       "    <tr>\n",
       "      <th>2019</th>\n",
       "      <td>5218723612</td>\n",
       "      <td>16412415350</td>\n",
       "    </tr>\n",
       "    <tr>\n",
       "      <th>2020</th>\n",
       "      <td>3967594810</td>\n",
       "      <td>10868888048</td>\n",
       "    </tr>\n",
       "  </tbody>\n",
       "</table>\n",
       "</div>"
      ],
      "text/plain": [
       "         US$ FOB   Net Weight\n",
       "Year                         \n",
       "2016  4615500082  21798116518\n",
       "2017  4448705456  22556529252\n",
       "2018  5239424416  20905240132\n",
       "2019  5218723612  16412415350\n",
       "2020  3967594810  10868888048"
      ]
     },
     "metadata": {},
     "output_type": "display_data"
    }
   ],
   "source": [
    "#agrupando a tabela e somando\n",
    "ex_ano = tabela[['Year','US$ FOB','Net Weight']].groupby('Year').sum()\n",
    "display(ex_ano)"
   ]
  },
  {
   "cell_type": "markdown",
   "id": "717e331d",
   "metadata": {},
   "source": [
    "### Quais os produtos mais exportados ao longo de todo o período?"
   ]
  },
  {
   "cell_type": "code",
   "execution_count": 4,
   "id": "ba74c817",
   "metadata": {
    "scrolled": false
   },
   "outputs": [
    {
     "name": "stdout",
     "output_type": "stream",
     "text": [
      "(84, 'Nuclear reactors, boilers, machinery and mechanical appliances; others') 19732\n"
     ]
    }
   ],
   "source": [
    "#Agrupando a coluna \n",
    "ex_produto = tabela.groupby('SH2 Code')\n",
    "#Contagem de quantas vezes o item pecorreu \n",
    "ex_produto = ex_produto['SH2 Description'].value_counts().sort_values(ascending = False)\n",
    "#executando o código\n",
    "print(ex_produto.idxmax(),ex_produto.max())\n"
   ]
  },
  {
   "cell_type": "markdown",
   "id": "6ce25d4d",
   "metadata": {},
   "source": [
    "### Em 2020 qual cidade mais exportou para a França?"
   ]
  },
  {
   "cell_type": "code",
   "execution_count": 44,
   "id": "074fb7b8",
   "metadata": {},
   "outputs": [
    {
     "data": {
      "text/plain": [
       "City                           Year\n",
       "Sorocaba - SP                  2020    1766\n",
       "São Paulo - SP                 2020    1332\n",
       "São José dos Campos - SP       2020    1214\n",
       "Taubaté - SP                   2020    1048\n",
       "Jundiaí - SP                   2020    1030\n",
       "                                       ... \n",
       "Santo Antônio da Platina - PR  2020       2\n",
       "Juazeiro do Norte - CE         2020       2\n",
       "Seara - SC                     2020       2\n",
       "Jandira - SP                   2020       2\n",
       "Álvares Machado - SP           2020       2\n",
       "Length: 648, dtype: int64"
      ]
     },
     "metadata": {},
     "output_type": "display_data"
    },
    {
     "data": {
      "text/plain": [
       "<Axes: ylabel='City,Year'>"
      ]
     },
     "execution_count": 44,
     "metadata": {},
     "output_type": "execute_result"
    },
    {
     "data": {
      "image/png": "[encoded data removed]",
      "text/plain": [
       "<Figure size 640x480 with 1 Axes>"
      ]
     },
     "metadata": {},
     "output_type": "display_data"
    }
   ],
   "source": [
    "# Filtrar os dados do ano de 2020\n",
    "tabela_2020 = tabela[tabela['Year'] == 2020]\n",
    "\n",
    "# Agrupar os dados por cidade e calcular o total de importações\n",
    "total_importacoes_por_cidade = tabela_2020[['City','Year']].groupby('City').value_counts()\n",
    "\n",
    "# Classificar as cidades em ordem decrescente\n",
    "cidades_mais_importaram = total_importacoes_por_cidade.sort_values(ascending=False)\n",
    "\n",
    "display(cidades_mais_importaram)\n",
    "cidades_mais_importaram.head(2).plot(kind = 'barh')"
   ]
  },
  {
   "cell_type": "code",
   "execution_count": null,
   "id": "d514552f",
   "metadata": {},
   "outputs": [],
   "source": []
  },
  {
   "cell_type": "markdown",
   "id": "84fbbcf3",
   "metadata": {},
   "source": [
    "### O que as 2 maiores cidades exportaram tanto?"
   ]
  },
  {
   "cell_type": "code",
   "execution_count": 36,
   "id": "12173e06",
   "metadata": {
    "scrolled": true
   },
   "outputs": [
    {
     "data": {
      "text/plain": [
       "City                       SH2 Description                                                                Year\n",
       "Sorocaba - SP              Nuclear reactors, boilers, machinery and mechanical appliances; others         2020    430\n",
       "Jundiaí - SP               Nuclear reactors, boilers, machinery and mechanical appliances; others         2020    306\n",
       "Sorocaba - SP              Electrical machinery and equipment and parts thereof; others                   2020    296\n",
       "São José dos Campos - SP   Electrical machinery and equipment and parts thereof; others                   2020    236\n",
       "São José dos Pinhais - PR  Nuclear reactors, boilers, machinery and mechanical appliances; others         2020    232\n",
       "                                                                                                                 ... \n",
       "Maracaí - SP               Other made-up textile articles; sets; rags, others                             2020      2\n",
       "Maracanaú - CE             Salt; sulphur; earths and stone; plastering materials, lime and cement         2020      2\n",
       "Marabá - PA                Ores, slag and ash                                                             2020      2\n",
       "Manduri - SP               Miscellaneous chemical products                                                2020      2\n",
       "Álvares Machado - SP       Articles of leather; articles of animal gut (other than silkworm gut), others  2020      2\n",
       "Length: 2282, dtype: int64"
      ]
     },
     "metadata": {},
     "output_type": "display_data"
    }
   ],
   "source": [
    "tabela_ano2020 = tabela[tabela['Year']==2020]\n",
    "citymaior = tabela_ano2020[['City', 'SH2 Description', 'Year']].groupby('City').value_counts()\n",
    "citymaior = citymaior.sort_values(ascending = False)\n",
    "display(citymaior)"
   ]
  },
  {
   "cell_type": "code",
   "execution_count": null,
   "id": "ae4d37ea",
   "metadata": {},
   "outputs": [],
   "source": []
  }
 ],
 "metadata": {
  "kernelspec": {
   "display_name": "Python 3 (ipykernel)",
   "language": "python",
   "name": "python3"
  },
  "language_info": {
   "codemirror_mode": {
    "name": "ipython",
    "version": 3
   },
   "file_extension": ".py",
   "mimetype": "text/x-python",
   "name": "python",
   "nbconvert_exporter": "python",
   "pygments_lexer": "ipython3",
   "version": "3.10.9"
  }
 },
 "nbformat": 4,
 "nbformat_minor": 5
}
