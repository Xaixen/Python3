{
 "cells": [
  {
   "cell_type": "code",
   "execution_count": 54,
   "id": "5dfb2258",
   "metadata": {},
   "outputs": [
    {
     "name": "stdout",
     "output_type": "stream",
     "text": [
      "\u001b[42m-=\u001b[42m-=\u001b[42m-=\u001b[42m-=\u001b[42m-=\u001b[42m-=\u001b[42m-=\u001b[42m-=\u001b[42m-=\u001b[42m-=\u001b[42m-=\u001b[42m-=\u001b[42m-=\u001b[42m-=\u001b[42m-=\u001b[42m-=\u001b[42m-=\u001b[42m-=\u001b[42m-=\u001b[42m-=\u001b[42m-=\u001b[42m-=\u001b[42m-=\u001b[42m-=\u001b[42m-=\u001b[42m-=\u001b[42m-=\u001b[42m-=\u001b[42m-=\u001b[42m-=\u001b[42m-=\u001b[42m-=\u001b[42m-=\u001b[42m-=\u001b[42m-=\u001b[42m-=\u001b[42m-=\u001b[42m-=\u001b[42m-=\u001b[42m-= \u001b[m\n",
      "\u001b[1;42m                             AUTOMAÇÃO DE WHATSSAP                               \u001b[m\n",
      "\u001b[42m-=\u001b[42m-=\u001b[42m-=\u001b[42m-=\u001b[42m-=\u001b[42m-=\u001b[42m-=\u001b[42m-=\u001b[42m-=\u001b[42m-=\u001b[42m-=\u001b[42m-=\u001b[42m-=\u001b[42m-=\u001b[42m-=\u001b[42m-=\u001b[42m-=\u001b[42m-=\u001b[42m-=\u001b[42m-=\u001b[42m-=\u001b[42m-=\u001b[42m-=\u001b[42m-=\u001b[42m-=\u001b[42m-=\u001b[42m-=\u001b[42m-=\u001b[42m-=\u001b[42m-=\u001b[42m-=\u001b[42m-=\u001b[42m-=\u001b[42m-=\u001b[42m-=\u001b[42m-=\u001b[42m-=\u001b[42m-=\u001b[42m-=\u001b[42m-= \u001b[0m\n",
      "\n",
      "Processando...\n",
      "________________________________________________________________________________\n",
      "\u001b[1;33mApós logar no whatssap aperte ENTER para começar!\u001b[0m\n",
      "________________________________________________________________________________\n"
     ]
    }
   ],
   "source": [
    "#Importando as bibliotecas\n",
    "from selenium import webdriver\n",
    "from selenium.webdriver.chrome.service import Service\n",
    "from webdriver_manager.chrome import ChromeDriverManager\n",
    "from time import sleep\n",
    "\n",
    "print('\\33[42m-=' * 40, '\\33[m')\n",
    "print(f'\\33[1;42m{\"AUTOMAÇÃO DE WHATSSAP\":^80}', '\\33[m')\n",
    "print('\\33[42m-=' * 40, '\\33[0m')\n",
    "print()\n",
    "mensagem = str(input('Digite a mensagem para enviar: '))\n",
    "print('Processando...')\n",
    "try:\n",
    "    service = Service(ChromeDriverManager().install())\n",
    "    nav =  webdriver.Chrome(service=service)\n",
    "    nav.get('https://web.whatsapp.com')\n",
    "except PermissionError:\n",
    "    print('\\33[1;31mPermissão Negada, tente novamente mais tarde!\\33[0m')\n",
    "    raise\n",
    "for c in range(100):\n",
    "    sleep(0.3)\n",
    "print('-=' * 40)\n",
    "print('\\33[1;33mApós logar no whatssap aperte ENTER para começar!\\33[0m')\n",
    "print('-=' * 40)\n",
    "input()\n",
    "sleep(1.2)"
   ]
  },
  {
   "cell_type": "code",
   "execution_count": 88,
   "id": "308da434",
   "metadata": {},
   "outputs": [
    {
     "name": "stdout",
     "output_type": "stream",
     "text": [
      "\u001b[1;33mColetando contatos...\u001b[0m\n",
      "24\n",
      "0\n",
      "28\n",
      "24\n",
      "34\n",
      "28\n",
      "39\n",
      "34\n",
      "42\n",
      "39\n",
      "50\n",
      "42\n",
      "57\n",
      "50\n",
      "57\n",
      "57\n",
      "\u001b[1;33mContatos carregados\u001b[0m\n"
     ]
    }
   ],
   "source": [
    "from selenium.webdriver.common.keys import Keys\n",
    "import pyperclip\n",
    "\n",
    "#Meu numero\n",
    "nav.find_element('xpath', '//*[@id=\"app\"]/div/div/div[4]/header/div[2]/div/span/div[3]/div').click()\n",
    "sleep(0.4)\n",
    "nav.find_element('xpath', '//*[@id=\"app\"]/div/div/div[3]/div[1]/span/div/span/div/div[1]/div/div[2]/div/div[1]/p').send_keys('(você)')\n",
    "sleep(0.5)\n",
    "meu_numero = nav.find_element('xpath', '//*[@id=\"app\"]/div/div/div[3]/div[1]/span/div/span/div/div[2]/div/div/div/div[2]/div/div/div[2]/div/div[1]/span[1]').text\n",
    "meu_numero = meu_numero + '(você)'\n",
    "for c in range(7):\n",
    "    nav.find_element('xpath', '//*[@id=\"app\"]/div/div/div[3]/div[1]/span/div/span/div/div[1]/div/div[2]/div/div[1]/p').send_keys(Keys.BACKSPACE)\n",
    "sleep(1)\n",
    "#Rolando para baixo\n",
    "nav.find_element('xpath', '/html').send_keys(Keys.TAB)\n",
    "nav.find_element('xpath', '/html').send_keys(Keys.TAB)\n",
    "nav.find_element('xpath', '//*[@id=\"app\"]/div/div/div[3]/div[1]/span/div/span/div/div[2]/div[1]').send_keys(Keys.TAB)\n",
    "nav.find_element('xpath', '//*[@id=\"app\"]/div/div/div[3]/div[1]/span/div/span/div/div[2]/div[3]').send_keys(Keys.TAB)\n",
    "#Coletando contatos\n",
    "lista = list()\n",
    "lista_reserva = list()\n",
    "print('\\33[1;33mColetando contatos...\\33[0m')\n",
    "for c in range(100):\n",
    "    nav.find_element('xpath', '//*[@id=\"app\"]/div/div/div[3]/div[1]/span/div/span/div/div[2]/div[5]/div').send_keys(Keys.PAGE_DOWN)\n",
    "    nav.find_element('xpath', '//*[@id=\"app\"]/div/div/div[3]/div[1]/span/div/span/div/div[2]/div[5]/div').send_keys(Keys.PAGE_DOWN)\n",
    "    sleep(0.1)\n",
    "    contato = nav.find_elements('class name', '_21S-L')\n",
    "    for item in contato:\n",
    "        nome = item.text.replace('\\n', '')\n",
    "        if not nome in lista:\n",
    "            lista.append(nome)\n",
    "        if meu_numero in lista:\n",
    "            lista.remove(meu_numero)\n",
    "    if lista == lista_reserva:\n",
    "        break\n",
    "    lista_reserva = lista[:]\n",
    "print('\\33[1;33mContatos carregados\\33[0m')\n",
    "sleep(0.9)\n",
    "nav.find_element('xpath', '/html').send_keys(Keys.ESCAPE)\n",
    "sleep(0.9)   \n",
    "nav.find_element('xpath', '//*[@id=\"side\"]/div[1]/div/div/div[2]/div/div[1]/p').send_keys('(você)')\n",
    "sleep(0.3)\n",
    "nav.find_element('xpath', '//*[@id=\"side\"]/div[1]/div/div/div[2]/div/div[1]/p').send_keys(Keys.ENTER)\n",
    "sleep(0.2)\n",
    "# escrever a mensagem para nós mesmos\n",
    "nav.find_element('xpath', '//*[@id=\"main\"]/footer/div[1]/div/span[2]/div/div[2]/div[1]/div/div[1]/p').send_keys(mensagem)\n",
    "sleep(2.5)\n",
    "nav.find_element('xpath', '//*[@id=\"main\"]/footer/div[1]/div/span[2]/div/div[2]/div[1]/div/div[1]/p').send_keys(Keys.ENTER)"
   ]
  },
  {
   "cell_type": "code",
   "execution_count": 92,
   "id": "9eef0106",
   "metadata": {},
   "outputs": [
    {
     "name": "stdout",
     "output_type": "stream",
     "text": [
      "\u001b[1;33mEnviando 1 blocos: \u001b[0m\n",
      "________________________________________________________________________________\n",
      "\u001b[1;33m1º Bloco enviado\u001b[0m\n",
      "\n",
      "\u001b[1;33mA mensagem foi enviada para 1 contatos com sucesso\u001b[0m\n",
      "-=-=-=-=-=-=-=-=-=-=-=-=-=-=-=-=-=-=-=-=-=-=-=-=-=-=-=-=-=-=-=-=-=-=-=-=-=-=-=-=\n"
     ]
    }
   ],
   "source": [
    "from selenium.webdriver.common.action_chains import ActionChains\n",
    "#gerador de blocos para mandar de 5 em 5 \n",
    "qntd_contatos = len(lista)\n",
    "if qntd_contatos % 5 == 0:\n",
    "    qntd_blocos = int(qntd_contatos / 5)\n",
    "else:\n",
    "    qntd_blocos = qntd_contatos // 5 + 1\n",
    "print(f'\\33[1;33mEnviando {qntd_blocos} blocos: \\33[0m')\n",
    "print('__' * 40)\n",
    "for i in range(qntd_blocos):\n",
    "    i_inicial = i * 5\n",
    "    i_final = (i + 1) * 5\n",
    "    lista_enviar = lista[i_inicial:i_final]\n",
    "    # classe do quadrado de mensagem\n",
    "    \n",
    "    lista_elementos = nav.find_elements('class name','_2AOIt')\n",
    "    for elemento in lista_elementos:\n",
    "        texto = elemento.text.replace('\\n', '')\n",
    "        mensagem.replace('\\n', '')\n",
    "        if mensagem in texto:\n",
    "            item = elemento\n",
    "\n",
    "    ActionChains(nav).move_to_element(item).perform()\n",
    "    #classe da setinha\n",
    "    elemento.find_element('class name', '_3u9t-').click()\n",
    "    sleep(0.3)\n",
    "    nav.find_element('xpath', '//*[@id=\"app\"]/div/span[4]/div/ul/div/li[4]/div').click()\n",
    "    sleep(2.6)\n",
    "    nav.find_element('xpath', '//*[@id=\"main\"]/span[2]/div/button[4]/span').click()\n",
    "    sleep(2.0)\n",
    "\n",
    "#selecionar de 5 contatos para enviar\n",
    "    for name in lista_enviar:\n",
    "        pyperclip.copy(name)\n",
    "        nav.find_element('xpath', '//*[@id=\"app\"]/div/span[2]/div/div/div/div/div/div/div/div[1]/div/div/div[2]/div/div[1]/p').send_keys(Keys.CONTROL + 'v')\n",
    "        sleep(1.7)\n",
    "        nav.find_element('xpath', '//*[@id=\"app\"]/div/span[2]/div/div/div/div/div/div/div/div[1]/div/div/div[2]/div/div[1]/p').send_keys(Keys.ENTER)\n",
    "        if nav.find_element('xpath', '//*[@id=\"app\"]/div/span[2]/div/div/div/div/div/div/div/div[2]/div/div/div').text:\n",
    "            nav.find_element('xpath', '//*[@id=\"app\"]/div/span[2]/div/div/div/div/div/div/div/div[1]/div/div/span/button').click()\n",
    "        sleep(0.6)\n",
    "        nav.find_element('xpath', '//*[@id=\"app\"]/div/span[2]/div/div/div/div/div/div/div/div[1]/div/div/div[2]/div/div[1]/p').send_keys(Keys.BACKSPACE)\n",
    "        sleep(1.2)\n",
    "    nav.find_element('xpath', '//*[@id=\"app\"]/div/span[2]/div/div/div/div/div/div/div/span/div/div/div').click()\n",
    "    sleep(3)\n",
    "    print(f'\\33[1;33m{i+1}º Bloco enviado\\33[0m')\n",
    "for c in range(2):\n",
    "    nav.find_element('xpath', '/html').send_keys(Keys.ESCAPE)\n",
    "    sleep(0.5)\n",
    "print()\n",
    "print(f'\\33[1;33mA mensagem foi enviada para {qntd_contatos} contatos com sucesso\\33[0m')\n",
    "print('-=' * 40)"
   ]
  },
  {
   "cell_type": "code",
   "execution_count": 87,
   "id": "df1dc818",
   "metadata": {},
   "outputs": [
    {
     "name": "stdout",
     "output_type": "stream",
     "text": [
      "[]\n"
     ]
    }
   ],
   "source": [
    "print((lista))\n"
   ]
  }
 ],
 "metadata": {
  "kernelspec": {
   "display_name": "Python 3 (ipykernel)",
   "language": "python",
   "name": "python3"
  },
  "language_info": {
   "codemirror_mode": {
    "name": "ipython",
    "version": 3
   },
   "file_extension": ".py",
   "mimetype": "text/x-python",
   "name": "python",
   "nbconvert_exporter": "python",
   "pygments_lexer": "ipython3",
   "version": "3.9.13"
  }
 },
 "nbformat": 4,
 "nbformat_minor": 5
}
