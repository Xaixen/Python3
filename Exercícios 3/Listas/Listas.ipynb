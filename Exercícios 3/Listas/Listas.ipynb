{
 "cells": [
  {
   "cell_type": "markdown",
   "id": "2b04bbea",
   "metadata": {
    "id": "2b04bbea"
   },
   "source": [
    "# Listas\n",
    "\n",
    "<span style=\"color: red;\"><b>Todos os exercícios são feitos partindo-se do pressuposto de que todas as entradas são dadas de forma correta. Casos limite não mencionados no enunciado não são abordados porque não fazem parte do exercício.</b></span>"
   ]
  },
  {
   "cell_type": "markdown",
   "id": "dcb81b29",
   "metadata": {
    "id": "dcb81b29"
   },
   "source": [
    "#### 1. Faça um Programa que leia as vendas dos vendedores, mostre a venda de cada vendedor com o seu nome e a média de vendas. "
   ]
  },
  {
   "cell_type": "code",
   "execution_count": 3,
   "id": "09c0d2b3",
   "metadata": {
    "id": "09c0d2b3"
   },
   "outputs": [
    {
     "name": "stdout",
     "output_type": "stream",
     "text": [
      "Fulano 1000\n",
      "Beltrano 1500\n",
      "Ciclano 1200\n",
      "Lira 1300\n",
      "325.0\n"
     ]
    }
   ],
   "source": [
    "vendas = [1000, 1500, 1200, 1300]\n",
    "vendedores = [\"Fulano\", \"Beltrano\", \"Ciclano\", \"Lira\"]\n",
    "for i, v in enumerate(vendas):\n",
    "    print(vendedores[i], v)\n",
    "    media = v / 4\n",
    "print(media)"
   ]
  },
  {
   "cell_type": "markdown",
   "id": "cbda91b3",
   "metadata": {
    "id": "cbda91b3"
   },
   "source": [
    "#### 2. Faça um Programa que crie uma lista com as médias de cada aluno, imprima as médias de cada aluno e a quantidade de alunos com média maior que 7."
   ]
  },
  {
   "cell_type": "code",
   "execution_count": 23,
   "id": "c93dd233",
   "metadata": {
    "id": "c93dd233"
   },
   "outputs": [
    {
     "name": "stdout",
     "output_type": "stream",
     "text": [
      "José [10, 9, 8, 8]\n",
      "Joana [9, 7, 6, 4]\n",
      "Maria [10, 10, 10, 10]\n",
      "Carla [5, 3, 10, 9]\n",
      "Mauricio [7, 6, 6, 6]\n",
      "Andre [7, 7, 8, 7]\n",
      "Tiago [7, 7, 7, 9]\n",
      "Enzo [8, 5, 6, 7]\n",
      "Amanda [10, 9, 7, 4]\n",
      "Alessandra [10, 1, 3, 3]\n",
      "5\n"
     ]
    }
   ],
   "source": [
    "alunos = [\"José\", \"Joana\", \"Maria\", \"Carla\", \"Mauricio\", \"Andre\", \"Tiago\", \"Enzo\", \"Amanda\", \"Alessandra\"]\n",
    "notas = [\n",
    "    [10, 9, 8, 8],\n",
    "    [9, 7, 6, 4],\n",
    "    [10, 10, 10, 10],\n",
    "    [5, 3, 10, 9],\n",
    "    [7, 6, 6, 6],\n",
    "    [7, 7, 8, 7],\n",
    "    [7, 7, 7, 9],\n",
    "    [8, 5, 6, 7],\n",
    "    [10, 9, 7, 4],\n",
    "    [10, 1, 3, 3],\n",
    "]\n",
    "\n",
    "acima = 0\n",
    "for i, lista in enumerate(notas):\n",
    "    media = sum(lista) / 4\n",
    "    print(alunos[i], lista)\n",
    "    if media > 7:\n",
    "       acima += 1 \n",
    "print(acima)\n"
   ]
  },
  {
   "cell_type": "markdown",
   "id": "c3068a53",
   "metadata": {
    "id": "c3068a53"
   },
   "source": [
    "#### 3. Foram anotadas as idades e salários de 30 funcionários. Faça um programa que determine quantos funcionários com mais de 25 anos possuem salário inferior à média de todos os salários."
   ]
  },
  {
   "cell_type": "code",
   "execution_count": 14,
   "id": "0308566d",
   "metadata": {
    "id": "0308566d",
    "scrolled": true
   },
   "outputs": [
    {
     "name": "stdout",
     "output_type": "stream",
     "text": [
      "32 2219\n",
      "50 3270\n",
      "49 2384\n",
      "38 2460\n",
      "49 1872\n",
      "48 1770\n",
      "48 3295\n",
      "44 1729\n",
      "42 1916\n",
      "42 2987\n",
      "38 2055\n",
      "35 1730\n",
      "3319.8\n"
     ]
    }
   ],
   "source": [
    "idades = [35,32,50,33,48,50,33,48,22,49,35,38,20,47,49,48,34,21,48,44,48,30,25,42,42,23,25,23,38,35]\n",
    "salarios = [3739,2219,3554,3978,4014,3270,4792,3879,2981,2384,4826,2460,3680,4318,1872,1770,4640,3929,3295,1729,3965,4267,4007,1916,2987,2943,3852,4543,2055,1730]\n",
    "\n",
    "for i, ida in enumerate(idades):\n",
    "    media = sum(salarios) / len(salarios)\n",
    "    if ida > 25 and salarios[i] < media:\n",
    "         print(ida, salarios[i])\n",
    "print(media)"
   ]
  },
  {
   "cell_type": "markdown",
   "id": "1611081b",
   "metadata": {
    "id": "1611081b"
   },
   "source": [
    "#### 4.Em quais meses a média de temperatura foi maior do que a média nacional?"
   ]
  },
  {
   "cell_type": "code",
   "execution_count": 7,
   "id": "62f72e2b",
   "metadata": {
    "id": "62f72e2b"
   },
   "outputs": [
    {
     "name": "stdout",
     "output_type": "stream",
     "text": [
      "Janeiro 30\n",
      "Fevereiro 29\n",
      "Março 28\n",
      "Abril 28\n",
      "Maio 25\n",
      "Junho 26\n",
      "Outubro 25\n",
      "Novembro 27\n",
      "Dezembro 32\n"
     ]
    }
   ],
   "source": [
    "meses = [\n",
    "    'Janeiro',\n",
    "    'Fevereiro',\n",
    "    'Março',\n",
    "    'Abril',\n",
    "    'Maio',\n",
    "    'Junho',\n",
    "    'Julho',\n",
    "    'Agosto',\n",
    "    'Setembro',\n",
    "    'Outubro',\n",
    "    'Novembro',\n",
    "    'Dezembro'\n",
    "]\n",
    "\n",
    "temperaturas = [30, 29, 28, 28, 25, 26, 20, 21, 19, 25, 27, 32]\n",
    "\n",
    "for i, temp in enumerate(temperaturas):\n",
    "    if temp > 21.4:\n",
    "        print(meses[i], temp)\n"
   ]
  },
  {
   "cell_type": "markdown",
   "id": "8946af31",
   "metadata": {
    "id": "8946af31"
   },
   "source": [
    "#### 5. As Organizações Tabajara resolveram dar um abono aos seus colaboradores em reconhecimento ao bom resultado alcançado durante o ano que passou. Para isto contratou você para desenvolver a aplicação que servirá como uma projeção de quanto será gasto com o pagamento deste abono.\n",
    "<pre>Após reuniões envolvendo a diretoria executiva, a diretoria financeira e os representantes do sindicato laboral, chegou-se a seguinte forma de cálculo:\n",
    ". Cada funcionário receberá o equivalente a 20% do seu salário bruto de dezembro;\n",
    ". O piso do abono será de 100 reais, isto é, aqueles funcionários cujo salário for muito baixo, recebem este valor mínimo; \n",
    "\n",
    "Neste momento, não se deve ter nenhuma preocupação com colaboradores com tempo menor de casa, descontos, impostos ou outras particularidades. O programa deverá calcular o valor do abono concedido a cada colaborador, de acordo com a regra definida acima. Ao final, o programa deverá apresentar:</pre>\n",
    "<pre>\n",
    "O salário de cada funcionário, juntamente com o valor do abono;\n",
    "O número total de funcionário processados;\n",
    "O valor total a ser gasto com o pagamento do abono;\n",
    "O número de funcionário que receberá o valor mínimo de 100 reais;\n",
    "O maior valor pago como abono; A tela abaixo é um exemplo de execução do programa, apenas para fins ilustrativos.\n",
    "<pre>\n",
    "Projeção de Gastos com Abono\n",
    "============================ \n",
    " \n",
    "Salário: 1000\n",
    "Salário: 300\n",
    "Salário: 500\n",
    "Salário: 100\n",
    "Salário: 4500\n",
    "Salário: 0\n",
    " \n",
    "Salário    - Abono     \n",
    "R$ 1000.00 - R$  200.00\n",
    "R$  300.00 - R$  100.00\n",
    "R$  500.00 - R$  100.00\n",
    "R$  100.00 - R$  100.00\n",
    "R$ 4500.00 - R$  900.00\n",
    " \n",
    "Foram processados 5 colaboradores\n",
    "Total gasto com abonos: R$ 1400.00\n",
    "Valor mínimo pago a 3 colaboradores\n",
    "Maior valor de abono pago: R$ 900.00"
   ]
  },
  {
   "cell_type": "code",
   "execution_count": 9,
   "id": "fadbcfb2",
   "metadata": {
    "id": "fadbcfb2"
   },
   "outputs": [
    {
     "name": "stdout",
     "output_type": "stream",
     "text": [
      "-=-=-=-=-=-=-=-=-=-=\n",
      "Salario    Abonos\n",
      "-=-=-=-=-=-=-=-=-=-=\n",
      "R$ 1000  = 200.0\n",
      "R$ 300   = 60.0\n",
      "R$ 500   = 100.0\n",
      "R$ 200   = 40.0\n",
      "R$ 1500  = 300.0\n",
      "R$ 3000  = 600.0\n",
      "R$ 3400  = 680.0\n",
      "R$ 5000  = 1000.0\n",
      "R$ 7000  = 1400.0\n",
      "R$ 2000  = 400.0\n",
      "R$ 600   = 120.0\n",
      "R$ 800   = 160.0\n",
      "R$ 250   = 50.0\n",
      "R$ 1500  = 300.0\n",
      "R$ 20000 = 4000.0\n"
     ]
    },
    {
     "ename": "TypeError",
     "evalue": "'float' object is not iterable",
     "output_type": "error",
     "traceback": [
      "\u001b[1;31m---------------------------------------------------------------------------\u001b[0m",
      "\u001b[1;31mTypeError\u001b[0m                                 Traceback (most recent call last)",
      "Cell \u001b[1;32mIn[9], line 16\u001b[0m\n\u001b[0;32m     13\u001b[0m     \u001b[38;5;28mprint\u001b[39m(\u001b[38;5;124mf\u001b[39m\u001b[38;5;124m'\u001b[39m\u001b[38;5;124mR$ \u001b[39m\u001b[38;5;132;01m{\u001b[39;00msala\u001b[38;5;132;01m:\u001b[39;00m\u001b[38;5;124m<5\u001b[39m\u001b[38;5;132;01m}\u001b[39;00m\u001b[38;5;124m = \u001b[39m\u001b[38;5;132;01m{\u001b[39;00mabonos\u001b[38;5;132;01m}\u001b[39;00m\u001b[38;5;124m'\u001b[39m)\n\u001b[0;32m     15\u001b[0m registro \u001b[38;5;241m=\u001b[39m \u001b[38;5;28mlen\u001b[39m(lista_salarios)\n\u001b[1;32m---> 16\u001b[0m total \u001b[38;5;241m=\u001b[39m \u001b[38;5;28mint\u001b[39m(\u001b[38;5;28;43msum\u001b[39;49m\u001b[43m(\u001b[49m\u001b[43mabonos\u001b[49m\u001b[43m)\u001b[49m)\n\u001b[0;32m     17\u001b[0m maior \u001b[38;5;241m=\u001b[39m \u001b[38;5;28mmax\u001b[39m(abonos)\n\u001b[0;32m     18\u001b[0m \u001b[38;5;28mprint\u001b[39m(\u001b[38;5;124mf\u001b[39m\u001b[38;5;124m'\u001b[39m\u001b[38;5;124mFORAM REGISTRADOS \u001b[39m\u001b[38;5;132;01m{\u001b[39;00mregistro\u001b[38;5;132;01m}\u001b[39;00m\u001b[38;5;124m'\u001b[39m)\n",
      "\u001b[1;31mTypeError\u001b[0m: 'float' object is not iterable"
     ]
    }
   ],
   "source": [
    "lista_salarios = [1000, 300, 500, 200, 1500, 3000, 3400, 5000, 7000, 2000, 600, 800, 250, 1500, 20000]\n",
    "abonos = []\n",
    "sala_min = 0\n",
    "\n",
    "print('-=' * 10)\n",
    "print('Salario    Abonos')\n",
    "print('-=' * 10)\n",
    "for sala in lista_salarios:\n",
    "    abonos = sala * 0.20\n",
    "    if sala <= 100:\n",
    "        abonos.append(100)\n",
    "        sala_min += 1\n",
    "    print(f'R$ {sala:<5} = {abonos}')\n",
    "\n",
    "registro = len(lista_salarios)\n",
    "total = (sum(abonos))\n",
    "maior = max(abonos)\n",
    "print(f'FORAM REGISTRADOS {registro}')\n",
    "print(f'Valor minimo pago a {sala_min} colaboradores')\n",
    "print(f'O maior abono pago foi de R${maior}')"
   ]
  },
  {
   "cell_type": "markdown",
   "id": "382b0981",
   "metadata": {
    "id": "382b0981"
   },
   "source": [
    "#### 6. Faça um programa que carregue uma lista com os modelos de cinco carros (exemplo de modelos: FUSCA, GOL, VECTRA etc). Carregue uma outra lista com o consumo desses carros, isto é, quantos quilômetros cada um desses carros faz com um litro de combustível. Calcule e mostre:\n",
    "<pre>\n",
    "a. O modelo do carro mais econômico;\n",
    "b. Quantos litros de combustível cada um dos carros cadastrados consome para percorrer uma distância de 1000 quilômetros e quanto isto custará, considerando um que a gasolina custe R$ 2,25 o litro. Abaixo segue uma tela de exemplo. O disposição das informações deve ser o mais próxima possível ao exemplo. Os dados são fictícios e podem mudar a cada execução do programa.</pre>\n",
    "```\n",
    "Comparativo de Consumo de Combustível\n",
    "\n",
    "Veículo 1\n",
    "Nome: fusca\n",
    "Km por litro: 7\n",
    "Veículo 2\n",
    "Nome: gol\n",
    "Km por litro: 10\n",
    "Veículo 3\n",
    "Nome: uno\n",
    "Km por litro: 12.5\n",
    "Veículo 4\n",
    "Nome: Vectra\n",
    "Km por litro: 9\n",
    "Veículo 5\n",
    "Nome: Peugeout\n",
    "Km por litro: 14.5\n",
    "\n",
    "Relatório Final\n",
    " 1 - fusca           -    7.0 -  142.9 litros - R$ 321.43\n",
    " 2 - gol             -   10.0 -  100.0 litros - R$ 225.00\n",
    " 3 - uno             -   12.5 -   80.0 litros - R$ 180.00\n",
    " 4 - vectra          -    9.0 -  111.1 litros - R$ 250.00\n",
    " 5 - peugeout        -   14.5 -   69.0 litros - R$ 155.17\n",
    "O menor consumo é do peugeout.\n",
    "```"
   ]
  },
  {
   "cell_type": "code",
   "execution_count": 43,
   "id": "6b6c8b06",
   "metadata": {
    "id": "6b6c8b06"
   },
   "outputs": [
    {
     "name": "stdout",
     "output_type": "stream",
     "text": [
      "Comparativo de Consumo de Combustível\n",
      "Relatório Final\n",
      "0 - fusca      -7      - 142.86 Litros - R$32.142857142857146\n",
      "1 -  gol       -10     - 100.00 Litros - R$22.5\n",
      "2 - uno        -12.5   - 80.00 Litros - R$18.0\n",
      "3 - vectra     -9      - 111.11 Litros - R$25.0\n",
      "4 - peugeot    -14.5   - 68.97 Litros - R$15.517241379310343\n",
      "O veiculo com o menor consumo: peugeot com 14.5 km por litros\n"
     ]
    }
   ],
   "source": [
    "print('Comparativo de Consumo de Combustível')\n",
    "veiculos = ['fusca',' gol', 'uno', 'vectra', 'peugeot']\n",
    "autonomias = [7, 10, 12.5, 9, 14.5]\n",
    "print('Relatório Final')\n",
    "for i, auto in enumerate(autonomias):\n",
    "    print(f'{i} - {veiculos[i]:<10} -{auto:<5}  - {1000/ auto:<5.2f} Litros - R${100/ auto * 2.25}')\n",
    "maior = max(autonomias)\n",
    "i = autonomias.index(maior)\n",
    "print(f'O veiculo com o menor consumo: {veiculos[i]} com {maior} km por litros')"
   ]
  },
  {
   "cell_type": "markdown",
   "id": "1d0260a3",
   "metadata": {
    "id": "1d0260a3"
   },
   "source": [
    "#### 7. Uma empresa paga seus vendedores com base em comissões. O vendedor recebe \\\\$200 por semana mais 9 por cento de suas vendas brutas daquela semana. Por exemplo, um vendedor que teve vendas brutas de \\\\$3000 em uma semana recebe \\\\$200 mais 9 por cento de \\\\$3000, ou seja, um total de \\\\$470. Escreva um programa (usando um array de contadores) que determine quantos vendedores receberam salários nos seguintes intervalos de valores:\n",
    "<pre>\n",
    "$200 - $299\n",
    "$300 - $399\n",
    "$400 - $499\n",
    "$500 - $599\n",
    "$600 - $699\n",
    "$700 - $799\n",
    "$800 - $899\n",
    "$900 - $999\n",
    "$1000 em diante\n",
    "</pre>\n",
    "\n",
    "Existem várias formas de fazer. Faça primeiro da forma que parecer mais intuitiva para você.\n",
    "\n",
    "Em seguida, caso queira um desafio:\n",
    "Desafio: Crie uma forma para chegar na posição da lista a partir do salário, sem fazer vários ifs aninhados."
   ]
  },
  {
   "cell_type": "code",
   "execution_count": null,
   "id": "fc6eaae4",
   "metadata": {
    "id": "fc6eaae4"
   },
   "outputs": [],
   "source": [
    "vendas = [1000, 2000, 3000, 4000, 5000, 6000, 5500, 4500, 3600]\n"
   ]
  }
 ],
 "metadata": {
  "colab": {
   "provenance": []
  },
  "kernelspec": {
   "display_name": "Python 3 (ipykernel)",
   "language": "python",
   "name": "python3"
  },
  "language_info": {
   "codemirror_mode": {
    "name": "ipython",
    "version": 3
   },
   "file_extension": ".py",
   "mimetype": "text/x-python",
   "name": "python",
   "nbconvert_exporter": "python",
   "pygments_lexer": "ipython3",
   "version": "3.10.9"
  }
 },
 "nbformat": 4,
 "nbformat_minor": 5
}
