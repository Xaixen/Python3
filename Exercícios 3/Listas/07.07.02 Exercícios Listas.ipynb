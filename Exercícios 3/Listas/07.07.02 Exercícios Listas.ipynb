{
 "cells": [
  {
   "cell_type": "markdown",
   "metadata": {},
   "source": [
    "# Exercícios\n",
    "\n",
    "## 1. Faturamento do Melhor e do Pior Mês do Ano\n",
    "\n",
    "Qual foi o valor de vendas do melhor mês do Ano?\n",
    "E valor do pior mês do ano?"
   ]
  },
  {
   "cell_type": "code",
   "execution_count": 52,
   "metadata": {},
   "outputs": [],
   "source": [
    "meses = ['jan', 'fev', 'mar', 'abr', 'mai', 'jun', 'jul', 'ago', 'set', 'out', 'nov', 'dez']\n",
    "vendas1s = [25000, 29000, 22200, 17750, 15870, 19900]\n",
    "vendas2s = [19850, 20120, 17540, 15555, 49051, 9650]\n",
    "vendas1s.extend(vendas2s)\n",
    "\n",
    "maior = max(vendas1s)\n",
    "menor = min(vendas1s)\n",
    "mesmax = vendas1s.index(maior)\n",
    "mesmin = vendas1s.index(menor)\n",
    "mesmax = meses[mesmax]\n",
    "mesmin = meses[mesmin]"
   ]
  },
  {
   "cell_type": "markdown",
   "metadata": {},
   "source": [
    "## 2. Continuação\n",
    "\n",
    "Agora relacione as duas listas para printar 'O melhor mês do ano foi {} com {} vendas' e o mesmo para o pior mês do ano.\n",
    "\n",
    "Calcule também o faturamento total do Ano e quanto que o melhor mês representou do faturamento total.\n",
    "\n",
    "Obs: Para o faturamento total, pode usar a função sum(lista) que soma todos os itens de uma lista"
   ]
  },
  {
   "cell_type": "code",
   "execution_count": 57,
   "metadata": {},
   "outputs": [
    {
     "name": "stdout",
     "output_type": "stream",
     "text": [
      "A maiores vendas foi no mês de nov com 49051 vendas\n",
      "A menores venda foram no mês de dez com 9650 vendas.\n",
      "O faturamento total de: R$261486\n",
      "O percentual foi de 18.76% do mês de dezembro \n"
     ]
    }
   ],
   "source": [
    "print(f'A maiores vendas foi no mês de {mesmax} com {maior} vendas\\n'\n",
    "f'A menores venda foram no mês de {mesmin} com {menor} vendas.')\n",
    "print(f'O faturamento total de: R${sum(vendas1s)}')\n",
    "percentual = maior / sum(vendas1s)\n",
    "print(f'O percentual foi de {percentual:.2%} do mês de dezembro ')"
   ]
  },
  {
   "cell_type": "markdown",
   "metadata": {},
   "source": [
    "## 3. Crie uma lista com o top 3 valores de vendas do ano (sem fazer \"no olho\")\n",
    "\n",
    "Dica: o método remove retira um item da lista."
   ]
  },
  {
   "cell_type": "code",
   "execution_count": 63,
   "metadata": {},
   "outputs": [
    {
     "name": "stdout",
     "output_type": "stream",
     "text": [
      "[49051, 29000, 25000, 22200, 20120, 19900, 19850, 17750, 17540, 15870, 15555, 9650]\n",
      "[[49051, 29000, 25000]]\n"
     ]
    }
   ],
   "source": [
    "top3 = []\n",
    "vendas1s.sort(reverse=True)\n",
    "top3.append(vendas1s[: 3])\n",
    "print(vendas1s)\n",
    "print(top3)"
   ]
  },
  {
   "cell_type": "code",
   "execution_count": null,
   "metadata": {},
   "outputs": [],
   "source": []
  }
 ],
 "metadata": {
  "kernelspec": {
   "display_name": "Python 3 (ipykernel)",
   "language": "python",
   "name": "python3"
  },
  "language_info": {
   "codemirror_mode": {
    "name": "ipython",
    "version": 3
   },
   "file_extension": ".py",
   "mimetype": "text/x-python",
   "name": "python",
   "nbconvert_exporter": "python",
   "pygments_lexer": "ipython3",
   "version": "3.10.9"
  }
 },
 "nbformat": 4,
 "nbformat_minor": 4
}
