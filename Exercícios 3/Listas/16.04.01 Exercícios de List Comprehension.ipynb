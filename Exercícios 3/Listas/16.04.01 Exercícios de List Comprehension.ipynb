{
 "cells": [
  {
   "cell_type": "markdown",
   "metadata": {
    "id": "_hqX4qRpTXRw"
   },
   "source": [
    "# Exercícios\n",
    "\n",
    "## 1. Tamanho do Pedido de Compras\n",
    "\n",
    "Nesse exercício vamos avaliar o estoque de uma empresa. Vamos considerar que todos os produtos dessa empresa são comprados em lotes de 500 unidades.\n",
    "\n",
    "- Caso o estoque esteja abaixo de 1000 unidades, devemos fazer um pedido de 500 unidades.\n",
    "- Caso o estoque esteja abaixo de 200 unidades, devemos fazer um pedido de 1000 unidades.\n",
    "\n",
    "Defina o valor a ser pedido de cada produto para enviar ao time de compras."
   ]
  },
  {
   "cell_type": "code",
   "execution_count": 7,
   "metadata": {
    "id": "yjccxaBZTXRy"
   },
   "outputs": [
    {
     "name": "stdout",
     "output_type": "stream",
     "text": [
      "[(500, 'BSA2199'), (500, 'PPF5239'), (500, 'BSA1212'), (500, 'PPF2154'), (500, 'BEB3410'), (500, 'PPF8999'), (500, 'EMB9591'), (500, 'BSA2006'), (500, 'EMB3604'), (500, 'EMB2070'), (500, 'PPF9018'), (500, 'PPF1468'), (500, 'BSA5819'), (500, 'PPF8666'), (500, 'BEB2983'), (500, 'BEB5877'), (500, 'PPF5008'), (1000, 'PPF3877'), (1000, 'PPF7321'), (500, 'BSA8833'), (500, 'PPF4980'), (500, 'PPF3063'), (500, 'BSA2089'), (1000, 'BSA8398'), (500, 'EMB4622'), (500, 'EMB9814'), (500, 'PPF3784'), (500, 'PPF2398'), (1000, 'BEB3211'), (500, 'PPF8655'), (500, 'PPF1874'), (1000, 'PPF8789'), (500, 'PPF6324'), (500, 'EMB9290'), (500, 'BSA5516'), (500, 'BSA8451'), (500, 'BSA8213')]\n"
     ]
    }
   ],
   "source": [
    "estoque = [('BSA2199',396),('PPF5239',251),('BSA1212',989),('PPF2154',449),('BEB3410',241),('PPF8999',527),('EMB9591',601),('BSA2006',314),('EMB3604',469),('EMB2070',733),('PPF9018',339),('PPF1468',906),('BSA5819',291),('PPF8666',850),('BEB2983',353),('BEB5877',456),('PPF5008',963),('PPF3877',185),('PPF7321',163),('BSA8833',644),('PPF4980',421),('PPF3063',757),('BSA2089',271),('BSA8398',180),('EMB4622',515),('EMB9814',563),('PPF3784',229),('PPF2398',270),('BEB3211',181),('PPF8655',459),('PPF1874',799),('PPF8789',126),('PPF6324',375),('EMB9290',883),('BSA5516',555),('BSA8451',243),('BSA8213',423)]\n",
    "\n",
    "unidade_prod = [(1000 if unidades < 200 else 500, produto) for produto, unidades in estoque]\n",
    "print(unidade_prod)"
   ]
  },
  {
   "cell_type": "code",
   "execution_count": null,
   "metadata": {},
   "outputs": [],
   "source": []
  }
 ],
 "metadata": {
  "colab": {
   "collapsed_sections": [],
   "name": "16.04.01 Exercícios de List Comprehension.ipynb",
   "provenance": []
  },
  "kernelspec": {
   "display_name": "Python 3 (ipykernel)",
   "language": "python",
   "name": "python3"
  },
  "language_info": {
   "codemirror_mode": {
    "name": "ipython",
    "version": 3
   },
   "file_extension": ".py",
   "mimetype": "text/x-python",
   "name": "python",
   "nbconvert_exporter": "python",
   "pygments_lexer": "ipython3",
   "version": "3.10.9"
  }
 },
 "nbformat": 4,
 "nbformat_minor": 1
}
